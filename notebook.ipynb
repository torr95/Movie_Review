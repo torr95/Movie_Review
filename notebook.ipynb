{
  "cells": [
    {
      "metadata": {
        "_uuid": "681e64f7d4bbc751e253afde5155bcc5d0542803",
        "_cell_guid": "9a38efbf-18d1-4d73-b622-df4cccafa448",
        "collapsed": true,
        "trusted": true
      },
      "cell_type": "code",
      "source": "import pylab\nimport calendar\nimport numpy as np\nimport pandas as pd\nimport seaborn as sn\nfrom scipy import stats\nimport re\n#import missingno as msno\nfrom datetime import datetime\nimport matplotlib.pyplot as plt\nimport warnings\npd.options.mode.chained_assignment = None\nwarnings.filterwarnings(\"ignore\", category=DeprecationWarning)\n%matplotlib inline",
      "execution_count": 1,
      "outputs": []
    },
    {
      "metadata": {
        "_uuid": "a2544cce3b4bf588bcbcb54716750576269f9ff3",
        "_cell_guid": "5454d351-2d39-46f8-845c-b528a5bf01eb",
        "collapsed": true,
        "trusted": true
      },
      "cell_type": "code",
      "source": "train = pd.read_csv(\"../input/labeledTrainData.tsv\", header=0,delimiter=\"\\t\", quoting=3)",
      "execution_count": 2,
      "outputs": []
    },
    {
      "metadata": {
        "_uuid": "a2c61e000e83f4cc201fd447e12a911933279026",
        "_cell_guid": "d64b53d3-8632-45d2-a77e-265a4f478c3b",
        "trusted": true
      },
      "cell_type": "code",
      "source": "train.head()",
      "execution_count": 4,
      "outputs": [
        {
          "output_type": "execute_result",
          "execution_count": 4,
          "data": {
            "text/plain": "         id  sentiment                                             review\n0  \"5814_8\"          1  \"With all this stuff going down at the moment ...\n1  \"2381_9\"          1  \"\\\"The Classic War of the Worlds\\\" by Timothy ...\n2  \"7759_3\"          0  \"The film starts with a manager (Nicholas Bell...\n3  \"3630_4\"          0  \"It must be assumed that those who praised thi...\n4  \"9495_8\"          1  \"Superbly trashy and wondrously unpretentious ...",
            "text/html": "<div>\n<style scoped>\n    .dataframe tbody tr th:only-of-type {\n        vertical-align: middle;\n    }\n\n    .dataframe tbody tr th {\n        vertical-align: top;\n    }\n\n    .dataframe thead th {\n        text-align: right;\n    }\n</style>\n<table border=\"1\" class=\"dataframe\">\n  <thead>\n    <tr style=\"text-align: right;\">\n      <th></th>\n      <th>id</th>\n      <th>sentiment</th>\n      <th>review</th>\n    </tr>\n  </thead>\n  <tbody>\n    <tr>\n      <th>0</th>\n      <td>\"5814_8\"</td>\n      <td>1</td>\n      <td>\"With all this stuff going down at the moment ...</td>\n    </tr>\n    <tr>\n      <th>1</th>\n      <td>\"2381_9\"</td>\n      <td>1</td>\n      <td>\"\\\"The Classic War of the Worlds\\\" by Timothy ...</td>\n    </tr>\n    <tr>\n      <th>2</th>\n      <td>\"7759_3\"</td>\n      <td>0</td>\n      <td>\"The film starts with a manager (Nicholas Bell...</td>\n    </tr>\n    <tr>\n      <th>3</th>\n      <td>\"3630_4\"</td>\n      <td>0</td>\n      <td>\"It must be assumed that those who praised thi...</td>\n    </tr>\n    <tr>\n      <th>4</th>\n      <td>\"9495_8\"</td>\n      <td>1</td>\n      <td>\"Superbly trashy and wondrously unpretentious ...</td>\n    </tr>\n  </tbody>\n</table>\n</div>"
          },
          "metadata": {}
        }
      ]
    },
    {
      "metadata": {
        "_uuid": "16ea2f987e97bf2020fd7be683d01a6b085c3586",
        "_cell_guid": "23afaa07-930e-497d-8a54-6733f75b0439",
        "trusted": true
      },
      "cell_type": "code",
      "source": "train.shape",
      "execution_count": 5,
      "outputs": [
        {
          "output_type": "execute_result",
          "execution_count": 5,
          "data": {
            "text/plain": "(25000, 3)"
          },
          "metadata": {}
        }
      ]
    },
    {
      "metadata": {
        "_uuid": "45e2ba72b1def944c7a025e32052486983955478",
        "_cell_guid": "bb43be2f-50f0-4439-ba36-f092da6ccf97",
        "trusted": true
      },
      "cell_type": "code",
      "source": "train.columns",
      "execution_count": 6,
      "outputs": [
        {
          "output_type": "execute_result",
          "execution_count": 6,
          "data": {
            "text/plain": "Index(['id', 'sentiment', 'review'], dtype='object')"
          },
          "metadata": {}
        }
      ]
    },
    {
      "metadata": {
        "_uuid": "164ff1d4fd9f78bb8ade18d9ce4327e8741db018",
        "_cell_guid": "952a28fe-048c-4cc0-8502-d05cb3a65106",
        "trusted": true
      },
      "cell_type": "code",
      "source": "train.isnull().sum()",
      "execution_count": 7,
      "outputs": [
        {
          "output_type": "execute_result",
          "execution_count": 7,
          "data": {
            "text/plain": "id           0\nsentiment    0\nreview       0\ndtype: int64"
          },
          "metadata": {}
        }
      ]
    },
    {
      "metadata": {
        "_uuid": "d9dfcc01cd23a71c6b2f45c88573f58ce0839d72",
        "_cell_guid": "7e2ec97d-1731-48dd-bb39-d35a9ee02fc2",
        "scrolled": false,
        "trusted": true
      },
      "cell_type": "code",
      "source": "print (train[\"review\"][0])",
      "execution_count": 8,
      "outputs": [
        {
          "output_type": "stream",
          "text": "\"With all this stuff going down at the moment with MJ i've started listening to his music, watching the odd documentary here and there, watched The Wiz and watched Moonwalker again. Maybe i just want to get a certain insight into this guy who i thought was really cool in the eighties just to maybe make up my mind whether he is guilty or innocent. Moonwalker is part biography, part feature film which i remember going to see at the cinema when it was originally released. Some of it has subtle messages about MJ's feeling towards the press and also the obvious message of drugs are bad m'kay.<br /><br />Visually impressive but of course this is all about Michael Jackson so unless you remotely like MJ in anyway then you are going to hate this and find it boring. Some may call MJ an egotist for consenting to the making of this movie BUT MJ and most of his fans would say that he made it for the fans which if true is really nice of him.<br /><br />The actual feature film bit when it finally starts is only on for 20 minutes or so excluding the Smooth Criminal sequence and Joe Pesci is convincing as a psychopathic all powerful drug lord. Why he wants MJ dead so bad is beyond me. Because MJ overheard his plans? Nah, Joe Pesci's character ranted that he wanted people to know it is he who is supplying drugs etc so i dunno, maybe he just hates MJ's music.<br /><br />Lots of cool things in this like MJ turning into a car and a robot and the whole Speed Demon sequence. Also, the director must have had the patience of a saint when it came to filming the kiddy Bad sequence as usually directors hate working with one kid let alone a whole bunch of them performing a complex dance scene.<br /><br />Bottom line, this movie is for people who like MJ on one level or another (which i think is most people). If not, then stay away. It does try and give off a wholesome message and ironically MJ's bestest buddy in this movie is a girl! Michael Jackson is truly one of the most talented people ever to grace this planet but is he guilty? Well, with all the attention i've gave this subject....hmmm well i don't know because people can be different behind closed doors, i know this for a fact. He is either an extremely nice but stupid guy or one of the most sickest liars. I hope he is not the latter.\"\n",
          "name": "stdout"
        }
      ]
    },
    {
      "metadata": {
        "_uuid": "3f25772afd8f34cb593a724d1104e49c1e2d7734",
        "_cell_guid": "6ae67c2d-9f88-4bc5-86de-4da9738f7a40",
        "trusted": true
      },
      "cell_type": "code",
      "source": "# Import BeautifulSoup into your workspace\nfrom bs4 import BeautifulSoup             \n\n# Initialize the BeautifulSoup object on a single movie review     \nexample1 = BeautifulSoup(train[\"review\"][0])  \n\n# Print the raw review and then the output of get_text(), for \n# comparison\nprint (example1.get_text())",
      "execution_count": 9,
      "outputs": [
        {
          "output_type": "stream",
          "text": "\"With all this stuff going down at the moment with MJ i've started listening to his music, watching the odd documentary here and there, watched The Wiz and watched Moonwalker again. Maybe i just want to get a certain insight into this guy who i thought was really cool in the eighties just to maybe make up my mind whether he is guilty or innocent. Moonwalker is part biography, part feature film which i remember going to see at the cinema when it was originally released. Some of it has subtle messages about MJ's feeling towards the press and also the obvious message of drugs are bad m'kay.<br /><br />Visually impressive but of course this is all about Michael Jackson so unless you remotely like MJ in anyway then you are going to hate this and find it boring. Some may call MJ an egotist for consenting to the making of this movie BUT MJ and most of his fans would say that he made it for the fans which if true is really nice of him.<br /><br />The actual feature film bit when it finally starts is only on for 20 minutes or so excluding the Smooth Criminal sequence and Joe Pesci is convincing as a psychopathic all powerful drug lord. Why he wants MJ dead so bad is beyond me. Because MJ overheard his plans? Nah, Joe Pesci's character ranted that he wanted people to know it is he who is supplying drugs etc so i dunno, maybe he just hates MJ's music.<br /><br />Lots of cool things in this like MJ turning into a car and a robot and the whole Speed Demon sequence. Also, the director must have had the patience of a saint when it came to filming the kiddy Bad sequence as usually directors hate working with one kid let alone a whole bunch of them performing a complex dance scene.<br /><br />Bottom line, this movie is for people who like MJ on one level or another (which i think is most people). If not, then stay away. It does try and give off a wholesome message and ironically MJ's bestest buddy in this movie is a girl! Michael Jackson is truly one of the most talented people ever to grace this planet but is he guilty? Well, with all the attention i've gave this subject....hmmm well i don't know because people can be different behind closed doors, i know this for a fact. He is either an extremely nice but stupid guy or one of the most sickest liars. I hope he is not the latter.\"\n\"With all this stuff going down at the moment with MJ i've started listening to his music, watching the odd documentary here and there, watched The Wiz and watched Moonwalker again. Maybe i just want to get a certain insight into this guy who i thought was really cool in the eighties just to maybe make up my mind whether he is guilty or innocent. Moonwalker is part biography, part feature film which i remember going to see at the cinema when it was originally released. Some of it has subtle messages about MJ's feeling towards the press and also the obvious message of drugs are bad m'kay.Visually impressive but of course this is all about Michael Jackson so unless you remotely like MJ in anyway then you are going to hate this and find it boring. Some may call MJ an egotist for consenting to the making of this movie BUT MJ and most of his fans would say that he made it for the fans which if true is really nice of him.The actual feature film bit when it finally starts is only on for 20 minutes or so excluding the Smooth Criminal sequence and Joe Pesci is convincing as a psychopathic all powerful drug lord. Why he wants MJ dead so bad is beyond me. Because MJ overheard his plans? Nah, Joe Pesci's character ranted that he wanted people to know it is he who is supplying drugs etc so i dunno, maybe he just hates MJ's music.Lots of cool things in this like MJ turning into a car and a robot and the whole Speed Demon sequence. Also, the director must have had the patience of a saint when it came to filming the kiddy Bad sequence as usually directors hate working with one kid let alone a whole bunch of them performing a complex dance scene.Bottom line, this movie is for people who like MJ on one level or another (which i think is most people). If not, then stay away. It does try and give off a wholesome message and ironically MJ's bestest buddy in this movie is a girl! Michael Jackson is truly one of the most talented people ever to grace this planet but is he guilty? Well, with all the attention i've gave this subject....hmmm well i don't know because people can be different behind closed doors, i know this for a fact. He is either an extremely nice but stupid guy or one of the most sickest liars. I hope he is not the latter.\"\n",
          "name": "stdout"
        },
        {
          "output_type": "stream",
          "text": "/opt/conda/lib/python3.6/site-packages/bs4/__init__.py:181: UserWarning: No parser was explicitly specified, so I'm using the best available HTML parser for this system (\"lxml\"). This usually isn't a problem, but if you run this code on another system, or in a different virtual environment, it may use a different parser and behave differently.\n\nThe code that caused this warning is on line 193 of the file /opt/conda/lib/python3.6/runpy.py. To get rid of this warning, change code that looks like this:\n\n BeautifulSoup(YOUR_MARKUP})\n\nto this:\n\n BeautifulSoup(YOUR_MARKUP, \"lxml\")\n\n  markup_type=markup_type))\n",
          "name": "stderr"
        }
      ]
    },
    {
      "metadata": {
        "_uuid": "9345ffeab07d755d41271cab5e364bc2010af11b",
        "_cell_guid": "ea0f2eab-1d29-4bef-8e3e-b8bb6d98c18e",
        "trusted": true
      },
      "cell_type": "code",
      "source": "import re\n# Use regular expressions to do a find-and-replace\nletters_only = re.sub(\"[^a-zA-Z]\",           # The pattern to search for\n                      \" \",                   # The pattern to replace it with\n                      example1.get_text() )  # The text to search\nprint(letters_only)",
      "execution_count": 10,
      "outputs": [
        {
          "output_type": "stream",
          "text": " With all this stuff going down at the moment with MJ i ve started listening to his music  watching the odd documentary here and there  watched The Wiz and watched Moonwalker again  Maybe i just want to get a certain insight into this guy who i thought was really cool in the eighties just to maybe make up my mind whether he is guilty or innocent  Moonwalker is part biography  part feature film which i remember going to see at the cinema when it was originally released  Some of it has subtle messages about MJ s feeling towards the press and also the obvious message of drugs are bad m kay Visually impressive but of course this is all about Michael Jackson so unless you remotely like MJ in anyway then you are going to hate this and find it boring  Some may call MJ an egotist for consenting to the making of this movie BUT MJ and most of his fans would say that he made it for the fans which if true is really nice of him The actual feature film bit when it finally starts is only on for    minutes or so excluding the Smooth Criminal sequence and Joe Pesci is convincing as a psychopathic all powerful drug lord  Why he wants MJ dead so bad is beyond me  Because MJ overheard his plans  Nah  Joe Pesci s character ranted that he wanted people to know it is he who is supplying drugs etc so i dunno  maybe he just hates MJ s music Lots of cool things in this like MJ turning into a car and a robot and the whole Speed Demon sequence  Also  the director must have had the patience of a saint when it came to filming the kiddy Bad sequence as usually directors hate working with one kid let alone a whole bunch of them performing a complex dance scene Bottom line  this movie is for people who like MJ on one level or another  which i think is most people   If not  then stay away  It does try and give off a wholesome message and ironically MJ s bestest buddy in this movie is a girl  Michael Jackson is truly one of the most talented people ever to grace this planet but is he guilty  Well  with all the attention i ve gave this subject    hmmm well i don t know because people can be different behind closed doors  i know this for a fact  He is either an extremely nice but stupid guy or one of the most sickest liars  I hope he is not the latter  \n",
          "name": "stdout"
        }
      ]
    },
    {
      "metadata": {
        "_uuid": "85ac81ab284de977ed5d546aac2318c2fa390bdc",
        "_cell_guid": "5297daa8-32b9-4bec-b8e1-363e3a049ba3",
        "collapsed": true,
        "trusted": true
      },
      "cell_type": "code",
      "source": "lower_case = letters_only.lower()        # Convert to lower case\nwords = lower_case.split()               # Split into words",
      "execution_count": 11,
      "outputs": []
    },
    {
      "metadata": {
        "_uuid": "d4f18430460748d4b01275a2758ff29e8aad6351",
        "_cell_guid": "91e6a9f4-7d03-43d4-9fe8-afa503e81d1b",
        "collapsed": true,
        "trusted": true
      },
      "cell_type": "code",
      "source": "import nltk",
      "execution_count": 12,
      "outputs": []
    },
    {
      "metadata": {
        "_uuid": "f93472f5751d9f8ca08615001f8ece835cc6a870",
        "_cell_guid": "b9562423-18d8-4d70-b8cd-dd1aa645c2ef",
        "trusted": true
      },
      "cell_type": "code",
      "source": "from nltk.corpus import stopwords # Import the stop word list\nprint (stopwords.words(\"english\"))",
      "execution_count": 13,
      "outputs": [
        {
          "output_type": "stream",
          "text": "['i', 'me', 'my', 'myself', 'we', 'our', 'ours', 'ourselves', 'you', \"you're\", \"you've\", \"you'll\", \"you'd\", 'your', 'yours', 'yourself', 'yourselves', 'he', 'him', 'his', 'himself', 'she', \"she's\", 'her', 'hers', 'herself', 'it', \"it's\", 'its', 'itself', 'they', 'them', 'their', 'theirs', 'themselves', 'what', 'which', 'who', 'whom', 'this', 'that', \"that'll\", 'these', 'those', 'am', 'is', 'are', 'was', 'were', 'be', 'been', 'being', 'have', 'has', 'had', 'having', 'do', 'does', 'did', 'doing', 'a', 'an', 'the', 'and', 'but', 'if', 'or', 'because', 'as', 'until', 'while', 'of', 'at', 'by', 'for', 'with', 'about', 'against', 'between', 'into', 'through', 'during', 'before', 'after', 'above', 'below', 'to', 'from', 'up', 'down', 'in', 'out', 'on', 'off', 'over', 'under', 'again', 'further', 'then', 'once', 'here', 'there', 'when', 'where', 'why', 'how', 'all', 'any', 'both', 'each', 'few', 'more', 'most', 'other', 'some', 'such', 'no', 'nor', 'not', 'only', 'own', 'same', 'so', 'than', 'too', 'very', 's', 't', 'can', 'will', 'just', 'don', \"don't\", 'should', \"should've\", 'now', 'd', 'll', 'm', 'o', 're', 've', 'y', 'ain', 'aren', \"aren't\", 'couldn', \"couldn't\", 'didn', \"didn't\", 'doesn', \"doesn't\", 'hadn', \"hadn't\", 'hasn', \"hasn't\", 'haven', \"haven't\", 'isn', \"isn't\", 'ma', 'mightn', \"mightn't\", 'mustn', \"mustn't\", 'needn', \"needn't\", 'shan', \"shan't\", 'shouldn', \"shouldn't\", 'wasn', \"wasn't\", 'weren', \"weren't\", 'won', \"won't\", 'wouldn', \"wouldn't\"]\n",
          "name": "stdout"
        }
      ]
    },
    {
      "metadata": {
        "_uuid": "edab6a37f693b66fc756552cd3b514394f3a22b7",
        "_cell_guid": "67584b1a-0d18-43db-b6e4-c853a89bc757",
        "trusted": true
      },
      "cell_type": "code",
      "source": "len(words)",
      "execution_count": 14,
      "outputs": [
        {
          "output_type": "execute_result",
          "execution_count": 14,
          "data": {
            "text/plain": "437"
          },
          "metadata": {}
        }
      ]
    },
    {
      "metadata": {
        "_uuid": "cd234b11ee348320bb9126eebcce9382b2aad596",
        "_cell_guid": "eef4d2bd-e24f-416f-8ea8-f3d817c83436",
        "trusted": true,
        "collapsed": true
      },
      "cell_type": "code",
      "source": "words = [w for w in words if not w in stopwords.words(\"english\")]",
      "execution_count": 15,
      "outputs": []
    },
    {
      "metadata": {
        "_uuid": "ed96cc4e19f2a536a6342d490c68acac509b4a4e",
        "_cell_guid": "99f74af5-512d-4312-9204-ce3ed254172c",
        "trusted": true
      },
      "cell_type": "code",
      "source": "len(words)",
      "execution_count": 16,
      "outputs": [
        {
          "output_type": "execute_result",
          "execution_count": 16,
          "data": {
            "text/plain": "219"
          },
          "metadata": {}
        }
      ]
    },
    {
      "metadata": {
        "_uuid": "24343e76ba2c88deebf70016c5a663e3ef349b25",
        "_cell_guid": "ca21d9c6-50b2-4256-bf32-40aa0610727f",
        "collapsed": true,
        "trusted": true
      },
      "cell_type": "code",
      "source": "def review_to_words( raw_review ):\n    # Function to convert a raw review to a string of words\n    # The input is a single string (a raw movie review), and \n    # the output is a single string (a preprocessed movie review)\n    #\n    # 1. Remove HTML\n    review_text = BeautifulSoup(raw_review).get_text() \n    #\n    # 2. Remove non-letters        \n    letters_only = re.sub(\"[^a-zA-Z]\", \" \", review_text) \n    #\n    # 3. Convert to lower case, split into individual words\n    words = letters_only.lower().split()                             \n    #\n    # 4. In Python, searching a set is much faster than searching\n    #   a list, so convert the stop words to a set\n    stops = set(stopwords.words(\"english\"))                  \n    # \n    # 5. Remove stop words\n    meaningful_words = [w for w in words if not w in stops]   \n    #\n    # 6. Join the words back into one string separated by space, \n    # and return the result.\n    return( \" \".join( meaningful_words ))",
      "execution_count": 17,
      "outputs": []
    },
    {
      "metadata": {
        "_uuid": "05f9306448a3bb0d08ba994ab3d252c6ed15a536",
        "_cell_guid": "dafc62c7-2f7f-445e-8a00-cb16568f9c0d",
        "scrolled": false,
        "trusted": true
      },
      "cell_type": "code",
      "source": "clean_review = review_to_words( train[\"review\"][0] )",
      "execution_count": 18,
      "outputs": [
        {
          "output_type": "stream",
          "text": "/opt/conda/lib/python3.6/site-packages/bs4/__init__.py:181: UserWarning: No parser was explicitly specified, so I'm using the best available HTML parser for this system (\"lxml\"). This usually isn't a problem, but if you run this code on another system, or in a different virtual environment, it may use a different parser and behave differently.\n\nThe code that caused this warning is on line 193 of the file /opt/conda/lib/python3.6/runpy.py. To get rid of this warning, change code that looks like this:\n\n BeautifulSoup(YOUR_MARKUP})\n\nto this:\n\n BeautifulSoup(YOUR_MARKUP, \"lxml\")\n\n  markup_type=markup_type))\n",
          "name": "stderr"
        }
      ]
    },
    {
      "metadata": {
        "_uuid": "1dce7ef3e4c5a09fdc4a21f2ed7eea3979f92dee",
        "_cell_guid": "bc5f49ab-c97b-4464-9eab-1d61eed53e07",
        "trusted": true
      },
      "cell_type": "code",
      "source": "# Get the number of reviews based on the dataframe column size\nnum_reviews = train[\"review\"].size\n\n# Initialize an empty list to hold the clean reviews\nclean_train_reviews = []\n\n# Loop over each review; create an index i that goes from 0 to the length\n# of the movie review list \n\nprint (\"Cleaning and parsing the training set movie reviews...\\n\")\nclean_train_reviews = []\nfor i in range( 0, num_reviews ):\n    # If the index is evenly divisible by 1000, print a message\n    if( (i+1)%1000 == 0 ):\n        print (\"Review %d of %d\\n\" % ( i+1, num_reviews ))                                                                 \n    clean_train_reviews.append( review_to_words( train[\"review\"][i] ))",
      "execution_count": 19,
      "outputs": [
        {
          "output_type": "stream",
          "text": "Cleaning and parsing the training set movie reviews...\n\n",
          "name": "stdout"
        },
        {
          "output_type": "stream",
          "text": "/opt/conda/lib/python3.6/site-packages/bs4/__init__.py:181: UserWarning: No parser was explicitly specified, so I'm using the best available HTML parser for this system (\"lxml\"). This usually isn't a problem, but if you run this code on another system, or in a different virtual environment, it may use a different parser and behave differently.\n\nThe code that caused this warning is on line 193 of the file /opt/conda/lib/python3.6/runpy.py. To get rid of this warning, change code that looks like this:\n\n BeautifulSoup(YOUR_MARKUP})\n\nto this:\n\n BeautifulSoup(YOUR_MARKUP, \"lxml\")\n\n  markup_type=markup_type))\n",
          "name": "stderr"
        },
        {
          "output_type": "stream",
          "text": "Review 1000 of 25000\n\nReview 2000 of 25000\n\nReview 3000 of 25000\n\nReview 4000 of 25000\n\nReview 5000 of 25000\n\nReview 6000 of 25000\n\nReview 7000 of 25000\n\nReview 8000 of 25000\n\nReview 9000 of 25000\n\nReview 10000 of 25000\n\nReview 11000 of 25000\n\nReview 12000 of 25000\n\nReview 13000 of 25000\n\nReview 14000 of 25000\n\nReview 15000 of 25000\n\nReview 16000 of 25000\n\nReview 17000 of 25000\n\nReview 18000 of 25000\n\nReview 19000 of 25000\n\nReview 20000 of 25000\n\nReview 21000 of 25000\n\nReview 22000 of 25000\n\nReview 23000 of 25000\n\nReview 24000 of 25000\n\nReview 25000 of 25000\n\n",
          "name": "stdout"
        }
      ]
    },
    {
      "metadata": {
        "_uuid": "2a98403568f946fb011f9d80a832c800588990fd",
        "_cell_guid": "3ca02d00-fed5-4fc6-85d4-065a35c8560d",
        "trusted": true
      },
      "cell_type": "code",
      "source": "print(\"Creating the bag of words...\\n\")\nfrom sklearn.feature_extraction.text import CountVectorizer\n\n# Initialize the \"CountVectorizer\" object, which is scikit-learn's\n# bag of words tool.  \nvectorizer = CountVectorizer(analyzer = \"word\",   \\\n                             tokenizer = None,    \\\n                             preprocessor = None, \\\n                             stop_words = None,   \\\n                             max_features = 5000) \n\n# fit_transform() does two functions: First, it fits the model\n# and learns the vocabulary; second, it transforms our training data\n# into feature vectors. The input to fit_transform should be a list of \n# strings.\ntrain_data_features = vectorizer.fit_transform(clean_train_reviews)\n\n# Numpy arrays are easy to work with, so convert the result to an \n# array\ntrain_data_features = train_data_features.toarray()",
      "execution_count": 20,
      "outputs": [
        {
          "output_type": "stream",
          "text": "Creating the bag of words...\n\n",
          "name": "stdout"
        }
      ]
    },
    {
      "metadata": {
        "_uuid": "a057ae3a3bdd8924628673345e369be3a2409a6c",
        "_cell_guid": "87e12e6c-0d99-4e9c-a3bf-fcb7c19a7465",
        "trusted": true
      },
      "cell_type": "code",
      "source": "print(train_data_features.shape)",
      "execution_count": 21,
      "outputs": [
        {
          "output_type": "stream",
          "text": "(25000, 5000)\n",
          "name": "stdout"
        }
      ]
    },
    {
      "metadata": {
        "_uuid": "54d6e4b27a98d3b96aff6e8b8b2df792e74cfe43",
        "_cell_guid": "57e29f13-c030-4563-bc37-ddb59915e489",
        "trusted": true,
        "collapsed": true
      },
      "cell_type": "code",
      "source": "# Take a look at the words in the vocabulary\nvocab = vectorizer.get_feature_names()",
      "execution_count": 22,
      "outputs": []
    },
    {
      "metadata": {
        "_uuid": "05bb27b8476ac23ed6f9d0abf5eab55002310215",
        "_cell_guid": "11ba9110-2f5a-4367-8430-9c44deb3ebd4",
        "scrolled": true,
        "trusted": true
      },
      "cell_type": "code",
      "source": "import numpy as np\n\n# Sum up the counts of each vocabulary word\ndist = np.sum(train_data_features, axis=0)\n\n# For each, print the vocabulary word and the number of times it \n# appears in the training set\ni=0\nfor tag, count in zip(vocab, dist):\n    print (count, tag)\n    i+=1\n    if i ==20:\n        break\n",
      "execution_count": 23,
      "outputs": [
        {
          "output_type": "stream",
          "text": "187 abandoned\n125 abc\n108 abilities\n454 ability\n1259 able\n85 abraham\n116 absence\n83 absent\n352 absolute\n1485 absolutely\n306 absurd\n192 abuse\n91 abusive\n98 abysmal\n297 academy\n485 accent\n203 accents\n300 accept\n130 acceptable\n144 accepted\n",
          "name": "stdout"
        }
      ]
    },
    {
      "metadata": {
        "_uuid": "e8d5da8ccae4131f98b3305af08af4f2083beafc",
        "_cell_guid": "42dace73-15ab-4d6c-9023-43f8d8774de5",
        "scrolled": true,
        "trusted": true
      },
      "cell_type": "code",
      "source": "print (\"Training the random forest...\")\nfrom sklearn.ensemble import RandomForestClassifier\n\n# Initialize a Random Forest classifier with 100 trees\nforest = RandomForestClassifier(n_estimators = 100) \n\n# Fit the forest to the training set, using the bag of words as \n# features and the sentiment labels as the response variable\n#\n# This may take a few minutes to run\nforest = forest.fit( train_data_features, train[\"sentiment\"] )\nprint(\"done\")",
      "execution_count": 24,
      "outputs": [
        {
          "output_type": "stream",
          "text": "Training the random forest...\ndone\n",
          "name": "stdout"
        }
      ]
    },
    {
      "metadata": {
        "_uuid": "329690089bd07460c9d36adee3ce4c7721e74ea1",
        "_cell_guid": "035d5225-45fa-4e4e-b3f1-1a2206008a26",
        "trusted": true
      },
      "cell_type": "code",
      "source": "# Read the test data\ntest = pd.read_csv(\"../input/testData.tsv\", header=0, delimiter=\"\\t\", \\\n                   quoting=3 )\n\n# Verify that there are 25,000 rows and 2 columns\nprint (test.shape)\n\n# Create an empty list and append the clean reviews one by one\nnum_reviews = len(test[\"review\"])\nclean_test_reviews = [] \n\nprint (\"Cleaning and parsing the test set movie reviews...\\n\")\nfor i in range(0,num_reviews):\n    if( (i+1) % 1000 == 0 ):\n        print (\"Review %d of %d\\n\" % (i+1, num_reviews))\n    clean_review = review_to_words( test[\"review\"][i] )\n    clean_test_reviews.append( clean_review )\n\n# Get a bag of words for the test set, and convert to a numpy array\ntest_data_features = vectorizer.transform(clean_test_reviews)\ntest_data_features = test_data_features.toarray()\n\n# Use the random forest to make sentiment label predictions\nresult = forest.predict(test_data_features)\n\n# Copy the results to a pandas dataframe with an \"id\" column and\n# a \"sentiment\" column\noutput = pd.DataFrame( data={\"id\":test[\"id\"], \"sentiment\":result} )\n\n# Use pandas to write the comma-separated output file\noutput.to_csv(\"Bag_of_Words_model.csv\", index=False, quoting=3 )",
      "execution_count": 25,
      "outputs": [
        {
          "output_type": "stream",
          "text": "(25000, 2)\nCleaning and parsing the test set movie reviews...\n\n",
          "name": "stdout"
        },
        {
          "output_type": "stream",
          "text": "/opt/conda/lib/python3.6/site-packages/bs4/__init__.py:181: UserWarning: No parser was explicitly specified, so I'm using the best available HTML parser for this system (\"lxml\"). This usually isn't a problem, but if you run this code on another system, or in a different virtual environment, it may use a different parser and behave differently.\n\nThe code that caused this warning is on line 193 of the file /opt/conda/lib/python3.6/runpy.py. To get rid of this warning, change code that looks like this:\n\n BeautifulSoup(YOUR_MARKUP})\n\nto this:\n\n BeautifulSoup(YOUR_MARKUP, \"lxml\")\n\n  markup_type=markup_type))\n",
          "name": "stderr"
        },
        {
          "output_type": "stream",
          "text": "Review 1000 of 25000\n\nReview 2000 of 25000\n\nReview 3000 of 25000\n\nReview 4000 of 25000\n\nReview 5000 of 25000\n\nReview 6000 of 25000\n\nReview 7000 of 25000\n\nReview 8000 of 25000\n\nReview 9000 of 25000\n\nReview 10000 of 25000\n\nReview 11000 of 25000\n\nReview 12000 of 25000\n\nReview 13000 of 25000\n\nReview 14000 of 25000\n\nReview 15000 of 25000\n\nReview 16000 of 25000\n\nReview 17000 of 25000\n\nReview 18000 of 25000\n\nReview 19000 of 25000\n\nReview 20000 of 25000\n\nReview 21000 of 25000\n\nReview 22000 of 25000\n\nReview 23000 of 25000\n\nReview 24000 of 25000\n\nReview 25000 of 25000\n\n",
          "name": "stdout"
        }
      ]
    },
    {
      "metadata": {
        "_uuid": "7f8f012275d4f66e806262c1647fdfdb45659cf5",
        "_cell_guid": "ad5bbbce-4fe5-438b-8dcc-56957974bf35",
        "trusted": false,
        "collapsed": true
      },
      "cell_type": "code",
      "source": "",
      "execution_count": null,
      "outputs": []
    },
    {
      "metadata": {
        "_uuid": "891d534265c754c47ae7bf653a8da62440968ac6",
        "_cell_guid": "0e42e821-093e-48b4-b4e3-fd0ae2f92fc7",
        "collapsed": true,
        "trusted": false
      },
      "cell_type": "code",
      "source": "",
      "execution_count": null,
      "outputs": []
    }
  ],
  "metadata": {
    "kernelspec": {
      "display_name": "Python 3",
      "language": "python",
      "name": "python3"
    },
    "language_info": {
      "name": "python",
      "version": "3.6.4",
      "mimetype": "text/x-python",
      "codemirror_mode": {
        "name": "ipython",
        "version": 3
      },
      "pygments_lexer": "ipython3",
      "nbconvert_exporter": "python",
      "file_extension": ".py"
    }
  },
  "nbformat": 4,
  "nbformat_minor": 1
}
