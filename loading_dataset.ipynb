{
  "nbformat": 4,
  "nbformat_minor": 0,
  "metadata": {
    "colab": {
      "name": "loading_dataset.ipynb",
      "version": "0.3.2",
      "views": {},
      "default_view": {},
      "provenance": [],
      "collapsed_sections": []
    },
    "kernelspec": {
      "name": "python3",
      "display_name": "Python 3"
    },
    "accelerator": "GPU"
  },
  "cells": [
    {
      "metadata": {
        "id": "nONF7Dniuk6k",
        "colab_type": "code",
        "colab": {
          "autoexec": {
            "startup": false,
            "wait_interval": 0
          }
        }
      },
      "cell_type": "code",
      "source": [
        "# Install the PyDrive wrapper & import libraries.\n",
        "# This only needs to be done once per notebook.\n",
        "!pip install -U -q PyDrive\n",
        "from pydrive.auth import GoogleAuth\n",
        "from pydrive.drive import GoogleDrive\n",
        "from google.colab import auth\n",
        "from oauth2client.client import GoogleCredentials\n",
        "\n",
        "# Authenticate and create the PyDrive client.\n",
        "# This only needs to be done once per notebook.\n",
        "auth.authenticate_user()\n",
        "gauth = GoogleAuth()\n",
        "gauth.credentials = GoogleCredentials.get_application_default()\n",
        "drive = GoogleDrive(gauth)\n",
        "\n"
      ],
      "execution_count": 0,
      "outputs": []
    },
    {
      "metadata": {
        "id": "hbKYybc2v5Od",
        "colab_type": "code",
        "colab": {
          "autoexec": {
            "startup": false,
            "wait_interval": 0
          },
          "output_extras": [
            {
              "item_id": 11
            },
            {
              "item_id": 33
            }
          ],
          "base_uri": "https://localhost:8080/",
          "height": 2503
        },
        "outputId": "838bb47d-2422-4d34-f8dc-ca53c485a531",
        "executionInfo": {
          "status": "ok",
          "timestamp": 1522697611443,
          "user_tz": -330,
          "elapsed": 122560,
          "user": {
            "displayName": "ayush gupta",
            "photoUrl": "//lh5.googleusercontent.com/-SmYRJDgC_jI/AAAAAAAAAAI/AAAAAAAACvk/Iqu4XSMC0tM/s50-c-k-no/photo.jpg",
            "userId": "107111856202799795670"
          }
        }
      },
      "cell_type": "code",
      "source": [
        "!apt-get install -y -qq software-properties-common python-software-properties module-init-tools\n",
        "!add-apt-repository -y ppa:alessandro-strada/ppa 2>&1 > /dev/null\n",
        "!apt-get update -qq 2>&1 > /dev/null\n",
        "!apt-get -y install -qq google-drive-ocamlfuse fuse\n",
        "from google.colab import auth\n",
        "auth.authenticate_user()\n",
        "from oauth2client.client import GoogleCredentials\n",
        "creds = GoogleCredentials.get_application_default()\n",
        "import getpass\n",
        "!google-drive-ocamlfuse -headless -id={creds.client_id} -secret={creds.client_secret} < /dev/null 2>&1 | grep URL\n",
        "vcode = getpass.getpass()\n",
        "!echo {vcode} | google-drive-ocamlfuse -headless -id={creds.client_id} -secret={creds.client_secret}"
      ],
      "execution_count": 3,
      "outputs": [
        {
          "output_type": "stream",
          "text": [
            "Preconfiguring packages ...\n",
            "Selecting previously unselected package cron.\n",
            "(Reading database ... 16712 files and directories currently installed.)\n",
            "Preparing to unpack .../00-cron_3.0pl1-128ubuntu5_amd64.deb ...\n",
            "Unpacking cron (3.0pl1-128ubuntu5) ...\n",
            "Selecting previously unselected package libapparmor1:amd64.\n",
            "Preparing to unpack .../01-libapparmor1_2.11.0-2ubuntu17.1_amd64.deb ...\n",
            "Unpacking libapparmor1:amd64 (2.11.0-2ubuntu17.1) ...\n",
            "Selecting previously unselected package libdbus-1-3:amd64.\n",
            "Preparing to unpack .../02-libdbus-1-3_1.10.22-1ubuntu1_amd64.deb ...\n",
            "Unpacking libdbus-1-3:amd64 (1.10.22-1ubuntu1) ...\n",
            "Selecting previously unselected package dbus.\n",
            "Preparing to unpack .../03-dbus_1.10.22-1ubuntu1_amd64.deb ...\n",
            "Unpacking dbus (1.10.22-1ubuntu1) ...\n",
            "Selecting previously unselected package dirmngr.\n",
            "Preparing to unpack .../04-dirmngr_2.1.15-1ubuntu8_amd64.deb ...\n",
            "Unpacking dirmngr (2.1.15-1ubuntu8) ...\n",
            "Selecting previously unselected package distro-info-data.\n",
            "Preparing to unpack .../05-distro-info-data_0.36ubuntu0.1_all.deb ...\n",
            "Unpacking distro-info-data (0.36ubuntu0.1) ...\n",
            "Selecting previously unselected package libkmod2:amd64.\n",
            "Preparing to unpack .../06-libkmod2_24-1ubuntu2_amd64.deb ...\n",
            "Unpacking libkmod2:amd64 (24-1ubuntu2) ...\n",
            "Selecting previously unselected package kmod.\n",
            "Preparing to unpack .../07-kmod_24-1ubuntu2_amd64.deb ...\n",
            "Unpacking kmod (24-1ubuntu2) ...\n",
            "Selecting previously unselected package lsb-release.\n",
            "Preparing to unpack .../08-lsb-release_9.20160110ubuntu5_all.deb ...\n",
            "Unpacking lsb-release (9.20160110ubuntu5) ...\n",
            "Selecting previously unselected package libgirepository-1.0-1:amd64.\n",
            "Preparing to unpack .../09-libgirepository-1.0-1_1.54.1-1_amd64.deb ...\n",
            "Unpacking libgirepository-1.0-1:amd64 (1.54.1-1) ...\n",
            "Selecting previously unselected package gir1.2-glib-2.0:amd64.\n",
            "Preparing to unpack .../10-gir1.2-glib-2.0_1.54.1-1_amd64.deb ...\n",
            "Unpacking gir1.2-glib-2.0:amd64 (1.54.1-1) ...\n",
            "Selecting previously unselected package iso-codes.\n",
            "Preparing to unpack .../11-iso-codes_3.75-1_all.deb ...\n",
            "Unpacking iso-codes (3.75-1) ...\n",
            "Selecting previously unselected package libdbus-glib-1-2:amd64.\n",
            "Preparing to unpack .../12-libdbus-glib-1-2_0.108-2_amd64.deb ...\n",
            "Unpacking libdbus-glib-1-2:amd64 (0.108-2) ...\n",
            "Selecting previously unselected package python-apt-common.\n",
            "Preparing to unpack .../13-python-apt-common_1.4.0~beta3build2_all.deb ...\n",
            "Unpacking python-apt-common (1.4.0~beta3build2) ...\n",
            "Selecting previously unselected package python3-apt.\n",
            "Preparing to unpack .../14-python3-apt_1.4.0~beta3build2_amd64.deb ...\n",
            "Unpacking python3-apt (1.4.0~beta3build2) ...\n",
            "Selecting previously unselected package python3-dbus.\n",
            "Preparing to unpack .../15-python3-dbus_1.2.4-1build3_amd64.deb ...\n",
            "Unpacking python3-dbus (1.2.4-1build3) ...\n",
            "Selecting previously unselected package python3-gi.\n",
            "Preparing to unpack .../16-python3-gi_3.24.1-2build1_amd64.deb ...\n",
            "Unpacking python3-gi (3.24.1-2build1) ...\n",
            "Selecting previously unselected package module-init-tools.\n",
            "Preparing to unpack .../17-module-init-tools_24-1ubuntu2_all.deb ...\n",
            "Unpacking module-init-tools (24-1ubuntu2) ...\n",
            "Selecting previously unselected package python-apt.\n",
            "Preparing to unpack .../18-python-apt_1.4.0~beta3build2_amd64.deb ...\n",
            "Unpacking python-apt (1.4.0~beta3build2) ...\n",
            "Selecting previously unselected package python-pycurl.\n",
            "Preparing to unpack .../19-python-pycurl_7.43.0-2build2_amd64.deb ...\n",
            "Unpacking python-pycurl (7.43.0-2build2) ...\n",
            "Selecting previously unselected package python-software-properties.\n",
            "Preparing to unpack .../20-python-software-properties_0.96.24.17_all.deb ...\n",
            "Unpacking python-software-properties (0.96.24.17) ...\n",
            "Selecting previously unselected package python3-software-properties.\n",
            "Preparing to unpack .../21-python3-software-properties_0.96.24.17_all.deb ...\n",
            "Unpacking python3-software-properties (0.96.24.17) ...\n",
            "Selecting previously unselected package software-properties-common.\n",
            "Preparing to unpack .../22-software-properties-common_0.96.24.17_all.deb ...\n",
            "Unpacking software-properties-common (0.96.24.17) ...\n",
            "Selecting previously unselected package unattended-upgrades.\n",
            "Preparing to unpack .../23-unattended-upgrades_0.98ubuntu1.1_all.deb ...\n",
            "Unpacking unattended-upgrades (0.98ubuntu1.1) ...\n",
            "Setting up python-apt-common (1.4.0~beta3build2) ...\n",
            "Setting up python3-apt (1.4.0~beta3build2) ...\n",
            "Setting up iso-codes (3.75-1) ...\n",
            "Setting up distro-info-data (0.36ubuntu0.1) ...\n",
            "Setting up python-pycurl (7.43.0-2build2) ...\n",
            "Setting up lsb-release (9.20160110ubuntu5) ...\n",
            "Setting up libgirepository-1.0-1:amd64 (1.54.1-1) ...\n",
            "Setting up libkmod2:amd64 (24-1ubuntu2) ...\n",
            "Setting up gir1.2-glib-2.0:amd64 (1.54.1-1) ...\n",
            "Processing triggers for libc-bin (2.26-0ubuntu2.1) ...\n"
          ],
          "name": "stdout"
        },
        {
          "output_type": "stream",
          "text": [
            "Setting up libapparmor1:amd64 (2.11.0-2ubuntu17.1) ...\r\n",
            "Setting up unattended-upgrades (0.98ubuntu1.1) ...\n",
            "\n",
            "Creating config file /etc/apt/apt.conf.d/20auto-upgrades with new version\n",
            "\n",
            "Creating config file /etc/apt/apt.conf.d/50unattended-upgrades with new version\n",
            "invoke-rc.d: could not determine current runlevel\n",
            "invoke-rc.d: policy-rc.d denied execution of start.\n",
            "Setting up dirmngr (2.1.15-1ubuntu8) ...\n",
            "Setting up cron (3.0pl1-128ubuntu5) ...\n",
            "Adding group `crontab' (GID 102) ...\n",
            "Done.\n",
            "update-rc.d: warning: start and stop actions are no longer supported; falling back to defaults\n",
            "update-rc.d: warning: stop runlevel arguments (1) do not match cron Default-Stop values (none)\n",
            "invoke-rc.d: could not determine current runlevel\n",
            "invoke-rc.d: policy-rc.d denied execution of start.\n",
            "Setting up libdbus-1-3:amd64 (1.10.22-1ubuntu1) ...\n",
            "Setting up kmod (24-1ubuntu2) ...\n",
            "Setting up libdbus-glib-1-2:amd64 (0.108-2) ...\n",
            "Setting up python3-gi (3.24.1-2build1) ...\n",
            "Setting up module-init-tools (24-1ubuntu2) ...\n",
            "Setting up python3-software-properties (0.96.24.17) ...\n",
            "Setting up dbus (1.10.22-1ubuntu1) ...\n",
            "Setting up python-apt (1.4.0~beta3build2) ...\n",
            "Setting up python3-dbus (1.2.4-1build3) ...\n",
            "Setting up python-software-properties (0.96.24.17) ...\n",
            "Setting up software-properties-common (0.96.24.17) ...\n",
            "Processing triggers for libc-bin (2.26-0ubuntu2.1) ...\n",
            "Processing triggers for dbus (1.10.22-1ubuntu1) ...\n",
            "gpg: keybox '/tmp/tmpdnkf9ix9/pubring.gpg' created\n",
            "gpg: /tmp/tmpdnkf9ix9/trustdb.gpg: trustdb created\n",
            "gpg: key AD5F235DF639B041: public key \"Launchpad PPA for Alessandro Strada\" imported\n",
            "gpg: Total number processed: 1\n",
            "gpg:               imported: 1\n",
            "Warning: apt-key output should not be parsed (stdout is not a terminal)\n",
            "Selecting previously unselected package libfuse2:amd64.\n",
            "(Reading database ... 18120 files and directories currently installed.)\n",
            "Preparing to unpack .../libfuse2_2.9.7-1ubuntu1_amd64.deb ...\n",
            "Unpacking libfuse2:amd64 (2.9.7-1ubuntu1) ...\n",
            "Selecting previously unselected package fuse.\n",
            "Preparing to unpack .../fuse_2.9.7-1ubuntu1_amd64.deb ...\n",
            "Unpacking fuse (2.9.7-1ubuntu1) ...\n",
            "Selecting previously unselected package google-drive-ocamlfuse.\n",
            "Preparing to unpack .../google-drive-ocamlfuse_0.6.21-0ubuntu2_amd64.deb ...\n",
            "Unpacking google-drive-ocamlfuse (0.6.21-0ubuntu2) ...\n",
            "Setting up libfuse2:amd64 (2.9.7-1ubuntu1) ...\n",
            "Processing triggers for libc-bin (2.26-0ubuntu2.1) ...\n",
            "Setting up fuse (2.9.7-1ubuntu1) ...\n",
            "Setting up google-drive-ocamlfuse (0.6.21-0ubuntu2) ...\n",
            "Please, open the following URL in a web browser: https://accounts.google.com/o/oauth2/auth?client_id=32555940559.apps.googleusercontent.com&redirect_uri=urn%3Aietf%3Awg%3Aoauth%3A2.0%3Aoob&scope=https%3A%2F%2Fwww.googleapis.com%2Fauth%2Fdrive&response_type=code&access_type=offline&approval_prompt=force\n",
            "··········\n",
            "Please, open the following URL in a web browser: https://accounts.google.com/o/oauth2/auth?client_id=32555940559.apps.googleusercontent.com&redirect_uri=urn%3Aietf%3Awg%3Aoauth%3A2.0%3Aoob&scope=https%3A%2F%2Fwww.googleapis.com%2Fauth%2Fdrive&response_type=code&access_type=offline&approval_prompt=force\n",
            "Please enter the verification code: Access token retrieved correctly.\n"
          ],
          "name": "stdout"
        }
      ]
    },
    {
      "metadata": {
        "id": "1AlfhN42v5We",
        "colab_type": "code",
        "colab": {
          "autoexec": {
            "startup": false,
            "wait_interval": 0
          },
          "output_extras": [
            {
              "item_id": 1
            }
          ],
          "base_uri": "https://localhost:8080/",
          "height": 53
        },
        "outputId": "4161db72-4654-4e75-84ff-ec26b9f09251",
        "executionInfo": {
          "status": "ok",
          "timestamp": 1522697632054,
          "user_tz": -330,
          "elapsed": 6107,
          "user": {
            "displayName": "ayush gupta",
            "photoUrl": "//lh5.googleusercontent.com/-SmYRJDgC_jI/AAAAAAAAAAI/AAAAAAAACvk/Iqu4XSMC0tM/s50-c-k-no/photo.jpg",
            "userId": "107111856202799795670"
          }
        }
      },
      "cell_type": "code",
      "source": [
        "!mkdir -p drive\n",
        "!google-drive-ocamlfuse drive"
      ],
      "execution_count": 5,
      "outputs": [
        {
          "output_type": "stream",
          "text": [
            "fuse: mountpoint is not empty\r\n",
            "fuse: if you are sure this is safe, use the 'nonempty' mount option\r\n"
          ],
          "name": "stdout"
        }
      ]
    },
    {
      "metadata": {
        "id": "aGZ8WoVV0piJ",
        "colab_type": "code",
        "colab": {
          "autoexec": {
            "startup": false,
            "wait_interval": 0
          },
          "output_extras": [
            {
              "item_id": 1
            }
          ],
          "base_uri": "https://localhost:8080/",
          "height": 35
        },
        "outputId": "96d267ec-a77d-4365-eb32-d19bdfb70450",
        "executionInfo": {
          "status": "ok",
          "timestamp": 1522697655674,
          "user_tz": -330,
          "elapsed": 2406,
          "user": {
            "displayName": "ayush gupta",
            "photoUrl": "//lh5.googleusercontent.com/-SmYRJDgC_jI/AAAAAAAAAAI/AAAAAAAACvk/Iqu4XSMC0tM/s50-c-k-no/photo.jpg",
            "userId": "107111856202799795670"
          }
        }
      },
      "cell_type": "code",
      "source": [
        "!ls ./drive/datasets/"
      ],
      "execution_count": 7,
      "outputs": [
        {
          "output_type": "stream",
          "text": [
            "labeledTrainData.tsv  testData.tsv  unlabeledTrainData.tsv\r\n"
          ],
          "name": "stdout"
        }
      ]
    },
    {
      "metadata": {
        "id": "92M-2sCD22_e",
        "colab_type": "code",
        "colab": {
          "autoexec": {
            "startup": false,
            "wait_interval": 0
          }
        }
      },
      "cell_type": "code",
      "source": [
        "import pylab\n",
        "import calendar\n",
        "import numpy as np\n",
        "import pandas as pd\n",
        "import seaborn as sn\n",
        "from scipy import stats\n",
        "import re\n",
        "#import missingno as msno\n",
        "from datetime import datetime\n",
        "import matplotlib.pyplot as plt\n",
        "import warnings\n",
        "pd.options.mode.chained_assignment = None\n",
        "warnings.filterwarnings(\"ignore\", category=DeprecationWarning)\n",
        "%matplotlib inline"
      ],
      "execution_count": 0,
      "outputs": []
    },
    {
      "metadata": {
        "id": "TqXBtJEo0plH",
        "colab_type": "code",
        "colab": {
          "autoexec": {
            "startup": false,
            "wait_interval": 0
          }
        }
      },
      "cell_type": "code",
      "source": [
        "train = pd.read_csv(\"./drive/datasets/labeledTrainData.tsv\", header=0,delimiter=\"\\t\", quoting=3)\n",
        "test = pd.read_csv(\"./drive/datasets/testData.tsv\", header=0, delimiter=\"\\t\",quoting=3 )\n",
        "unlabeled_train = pd.read_csv(\"./drive/datasets/unlabeledTrainData.tsv\", header=0, delimiter=\"\\t\",quoting=3 )"
      ],
      "execution_count": 0,
      "outputs": []
    },
    {
      "metadata": {
        "id": "v0aCNy2J0pnr",
        "colab_type": "code",
        "colab": {
          "autoexec": {
            "startup": false,
            "wait_interval": 0
          },
          "output_extras": [
            {
              "item_id": 1
            }
          ],
          "base_uri": "https://localhost:8080/",
          "height": 71
        },
        "outputId": "2809d190-e558-40cc-fb4b-dac9b8636c5c",
        "executionInfo": {
          "status": "ok",
          "timestamp": 1522698490960,
          "user_tz": -330,
          "elapsed": 1105,
          "user": {
            "displayName": "ayush gupta",
            "photoUrl": "//lh5.googleusercontent.com/-SmYRJDgC_jI/AAAAAAAAAAI/AAAAAAAACvk/Iqu4XSMC0tM/s50-c-k-no/photo.jpg",
            "userId": "107111856202799795670"
          }
        }
      },
      "cell_type": "code",
      "source": [
        "print(len(train))\n",
        "print(len(test))\n",
        "print(len(unlabeled_train))"
      ],
      "execution_count": 14,
      "outputs": [
        {
          "output_type": "stream",
          "text": [
            "25000\n",
            "25000\n",
            "50000\n"
          ],
          "name": "stdout"
        }
      ]
    },
    {
      "metadata": {
        "id": "ohIT6YdS0pqJ",
        "colab_type": "code",
        "colab": {
          "autoexec": {
            "startup": false,
            "wait_interval": 0
          },
          "output_extras": [
            {
              "item_id": 1
            }
          ],
          "base_uri": "https://localhost:8080/",
          "height": 55
        },
        "outputId": "0f35b845-fbfe-4913-c671-64de8667129b",
        "executionInfo": {
          "status": "ok",
          "timestamp": 1522698498642,
          "user_tz": -330,
          "elapsed": 1166,
          "user": {
            "displayName": "ayush gupta",
            "photoUrl": "//lh5.googleusercontent.com/-SmYRJDgC_jI/AAAAAAAAAAI/AAAAAAAACvk/Iqu4XSMC0tM/s50-c-k-no/photo.jpg",
            "userId": "107111856202799795670"
          }
        }
      },
      "cell_type": "code",
      "source": [
        "train[\"review\"][0]"
      ],
      "execution_count": 15,
      "outputs": [
        {
          "output_type": "execute_result",
          "data": {
            "text/plain": [
              "'\"With all this stuff going down at the moment with MJ i\\'ve started listening to his music, watching the odd documentary here and there, watched The Wiz and watched Moonwalker again. Maybe i just want to get a certain insight into this guy who i thought was really cool in the eighties just to maybe make up my mind whether he is guilty or innocent. Moonwalker is part biography, part feature film which i remember going to see at the cinema when it was originally released. Some of it has subtle messages about MJ\\'s feeling towards the press and also the obvious message of drugs are bad m\\'kay.<br /><br />Visually impressive but of course this is all about Michael Jackson so unless you remotely like MJ in anyway then you are going to hate this and find it boring. Some may call MJ an egotist for consenting to the making of this movie BUT MJ and most of his fans would say that he made it for the fans which if true is really nice of him.<br /><br />The actual feature film bit when it finally starts is only on for 20 minutes or so excluding the Smooth Criminal sequence and Joe Pesci is convincing as a psychopathic all powerful drug lord. Why he wants MJ dead so bad is beyond me. Because MJ overheard his plans? Nah, Joe Pesci\\'s character ranted that he wanted people to know it is he who is supplying drugs etc so i dunno, maybe he just hates MJ\\'s music.<br /><br />Lots of cool things in this like MJ turning into a car and a robot and the whole Speed Demon sequence. Also, the director must have had the patience of a saint when it came to filming the kiddy Bad sequence as usually directors hate working with one kid let alone a whole bunch of them performing a complex dance scene.<br /><br />Bottom line, this movie is for people who like MJ on one level or another (which i think is most people). If not, then stay away. It does try and give off a wholesome message and ironically MJ\\'s bestest buddy in this movie is a girl! Michael Jackson is truly one of the most talented people ever to grace this planet but is he guilty? Well, with all the attention i\\'ve gave this subject....hmmm well i don\\'t know because people can be different behind closed doors, i know this for a fact. He is either an extremely nice but stupid guy or one of the most sickest liars. I hope he is not the latter.\"'"
            ]
          },
          "metadata": {
            "tags": []
          },
          "execution_count": 15
        }
      ]
    },
    {
      "metadata": {
        "id": "9IxIgcwf0psY",
        "colab_type": "code",
        "colab": {
          "autoexec": {
            "startup": false,
            "wait_interval": 0
          }
        }
      },
      "cell_type": "code",
      "source": [
        "# Import various modules for string cleaning\n",
        "from bs4 import BeautifulSoup\n",
        "import re\n",
        "from nltk.corpus import stopwords\n",
        "\n",
        "def review_to_wordlist( review, remove_stopwords=False ):\n",
        "    # Function to convert a document to a sequence of words,\n",
        "    # optionally removing stop words.  Returns a list of words.\n",
        "    #\n",
        "    # 1. Remove HTML\n",
        "    review_text = BeautifulSoup(review).get_text()\n",
        "    #  \n",
        "    # 2. Remove non-letters\n",
        "    review_text = re.sub(\"[^a-zA-Z]\",\" \", review_text)\n",
        "    #\n",
        "    # 3. Convert words to lower case and split them\n",
        "    words = review_text.lower().split()\n",
        "    #\n",
        "    # 4. Optionally remove stop words (false by default)\n",
        "    if remove_stopwords:\n",
        "        stops = set(stopwords.words(\"english\"))\n",
        "        words = [w for w in words if not w in stops]\n",
        "    #\n",
        "    # 5. Return a list of words\n",
        "    return(words)"
      ],
      "execution_count": 0,
      "outputs": []
    },
    {
      "metadata": {
        "id": "c9ba_pFw6lIk",
        "colab_type": "code",
        "colab": {
          "autoexec": {
            "startup": false,
            "wait_interval": 0
          },
          "output_extras": [
            {
              "item_id": 2
            }
          ],
          "base_uri": "https://localhost:8080/",
          "height": 107
        },
        "outputId": "14be19b4-06f2-4f09-decd-1557d8f62404",
        "executionInfo": {
          "status": "ok",
          "timestamp": 1522699027339,
          "user_tz": -330,
          "elapsed": 5409,
          "user": {
            "displayName": "ayush gupta",
            "photoUrl": "//lh5.googleusercontent.com/-SmYRJDgC_jI/AAAAAAAAAAI/AAAAAAAACvk/Iqu4XSMC0tM/s50-c-k-no/photo.jpg",
            "userId": "107111856202799795670"
          }
        }
      },
      "cell_type": "code",
      "source": [
        "import nltk.data\n",
        "nltk.download()   \n",
        "\n",
        "# Load the punkt tokenizer\n",
        "tokenizer = nltk.data.load('tokenizers/punkt/english.pickle')\n",
        "\n",
        "# Define a function to split a review into parsed sentences\n",
        "def review_to_sentences( review, tokenizer, remove_stopwords=False ):\n",
        "    # Function to split a review into parsed sentences. Returns a \n",
        "    # list of sentences, where each sentence is a list of words\n",
        "    #\n",
        "    # 1. Use the NLTK tokenizer to split the paragraph into sentences\n",
        "    raw_sentences = tokenizer.tokenize(review.strip())\n",
        "    #\n",
        "    # 2. Loop over each sentence\n",
        "    sentences = []\n",
        "    for raw_sentence in raw_sentences:\n",
        "        # If a sentence is empty, skip it\n",
        "        if len(raw_sentence) > 0:\n",
        "            # Otherwise, call review_to_wordlist to get a list of words\n",
        "            sentences.append( review_to_wordlist( raw_sentence, \\\n",
        "              remove_stopwords ))\n",
        "    #\n",
        "    # Return the list of sentences (each sentence is a list of words,\n",
        "    # so this returns a list of lists\n",
        "    return sentences"
      ],
      "execution_count": 21,
      "outputs": [
        {
          "output_type": "stream",
          "text": [
            "NLTK Downloader\n",
            "---------------------------------------------------------------------------\n",
            "    d) Download   l) List    u) Update   c) Config   h) Help   q) Quit\n",
            "---------------------------------------------------------------------------\n",
            "Downloader> q\n"
          ],
          "name": "stdout"
        }
      ]
    },
    {
      "metadata": {
        "id": "UremTFfe6lLg",
        "colab_type": "code",
        "colab": {
          "autoexec": {
            "startup": false,
            "wait_interval": 0
          },
          "output_extras": [
            {
              "item_id": 1
            },
            {
              "item_id": 4
            },
            {
              "item_id": 5
            },
            {
              "item_id": 11
            }
          ],
          "base_uri": "https://localhost:8080/",
          "height": 559
        },
        "outputId": "cc3e7c20-aced-4710-8781-23be12ca1d8c",
        "executionInfo": {
          "status": "ok",
          "timestamp": 1522700607899,
          "user_tz": -330,
          "elapsed": 1563398,
          "user": {
            "displayName": "ayush gupta",
            "photoUrl": "//lh5.googleusercontent.com/-SmYRJDgC_jI/AAAAAAAAAAI/AAAAAAAACvk/Iqu4XSMC0tM/s50-c-k-no/photo.jpg",
            "userId": "107111856202799795670"
          }
        }
      },
      "cell_type": "code",
      "source": [
        "sentences = []  # Initialize an empty list of sentences\n",
        "\n",
        "print (\"Parsing sentences from training set\")\n",
        "for review in train[\"review\"]:\n",
        "    sentences += review_to_sentences(review, tokenizer)\n",
        "\n",
        "print (\"Parsing sentences from unlabeled set\")\n",
        "for review in unlabeled_train[\"review\"]:\n",
        "    sentences += review_to_sentences(review, tokenizer)"
      ],
      "execution_count": 22,
      "outputs": [
        {
          "output_type": "stream",
          "text": [
            "Parsing sentences from training set\n"
          ],
          "name": "stdout"
        },
        {
          "output_type": "stream",
          "text": [
            "/usr/local/lib/python3.6/dist-packages/bs4/__init__.py:181: UserWarning: No parser was explicitly specified, so I'm using the best available HTML parser for this system (\"html5lib\"). This usually isn't a problem, but if you run this code on another system, or in a different virtual environment, it may use a different parser and behave differently.\n",
            "\n",
            "The code that caused this warning is on line 193 of the file /usr/lib/python3.6/runpy.py. To get rid of this warning, change code that looks like this:\n",
            "\n",
            " BeautifulSoup(YOUR_MARKUP})\n",
            "\n",
            "to this:\n",
            "\n",
            " BeautifulSoup(YOUR_MARKUP, \"html5lib\")\n",
            "\n",
            "  markup_type=markup_type))\n",
            "/usr/local/lib/python3.6/dist-packages/bs4/__init__.py:219: UserWarning: \"b'.'\" looks like a filename, not markup. You should probably open this file and pass the filehandle into Beautiful Soup.\n",
            "  ' Beautiful Soup.' % markup)\n",
            "/usr/local/lib/python3.6/dist-packages/bs4/__init__.py:282: UserWarning: \"http://www.happierabroad.com\"\" looks like a URL. Beautiful Soup is not an HTTP client. You should probably use an HTTP client like requests to get the document behind the URL, and feed that document to Beautiful Soup.\n",
            "  ' that document to Beautiful Soup.' % decoded_markup\n"
          ],
          "name": "stderr"
        },
        {
          "output_type": "stream",
          "text": [
            "Parsing sentences from unlabeled set\n"
          ],
          "name": "stdout"
        },
        {
          "output_type": "stream",
          "text": [
            "/usr/local/lib/python3.6/dist-packages/bs4/__init__.py:282: UserWarning: \"http://www.archive.org/details/LovefromaStranger\"\" looks like a URL. Beautiful Soup is not an HTTP client. You should probably use an HTTP client like requests to get the document behind the URL, and feed that document to Beautiful Soup.\n",
            "  ' that document to Beautiful Soup.' % decoded_markup\n",
            "/usr/local/lib/python3.6/dist-packages/bs4/__init__.py:282: UserWarning: \"http://www.loosechangeguide.com/LooseChangeGuide.html\"\" looks like a URL. Beautiful Soup is not an HTTP client. You should probably use an HTTP client like requests to get the document behind the URL, and feed that document to Beautiful Soup.\n",
            "  ' that document to Beautiful Soup.' % decoded_markup\n",
            "/usr/local/lib/python3.6/dist-packages/bs4/__init__.py:282: UserWarning: \"http://www.msnbc.msn.com/id/4972055/site/newsweek/\"\" looks like a URL. Beautiful Soup is not an HTTP client. You should probably use an HTTP client like requests to get the document behind the URL, and feed that document to Beautiful Soup.\n",
            "  ' that document to Beautiful Soup.' % decoded_markup\n",
            "/usr/local/lib/python3.6/dist-packages/bs4/__init__.py:219: UserWarning: \"b'..'\" looks like a filename, not markup. You should probably open this file and pass the filehandle into Beautiful Soup.\n",
            "  ' Beautiful Soup.' % markup)\n",
            "/usr/local/lib/python3.6/dist-packages/bs4/__init__.py:282: UserWarning: \"http://www.youtube.com/watch?v=a0KSqelmgN8\"\" looks like a URL. Beautiful Soup is not an HTTP client. You should probably use an HTTP client like requests to get the document behind the URL, and feed that document to Beautiful Soup.\n",
            "  ' that document to Beautiful Soup.' % decoded_markup\n",
            "/usr/local/lib/python3.6/dist-packages/bs4/__init__.py:282: UserWarning: \"http://jake-weird.blogspot.com/2007/08/beneath.html\"\" looks like a URL. Beautiful Soup is not an HTTP client. You should probably use an HTTP client like requests to get the document behind the URL, and feed that document to Beautiful Soup.\n",
            "  ' that document to Beautiful Soup.' % decoded_markup\n"
          ],
          "name": "stderr"
        }
      ]
    },
    {
      "metadata": {
        "id": "yX4ERELHR-m0",
        "colab_type": "code",
        "colab": {
          "autoexec": {
            "startup": false,
            "wait_interval": 0
          },
          "output_extras": [
            {
              "item_id": 20
            }
          ],
          "base_uri": "https://localhost:8080/",
          "height": 775
        },
        "outputId": "e7ef5d02-c568-401f-e3d0-09cb6893232f",
        "executionInfo": {
          "status": "ok",
          "timestamp": 1522704866829,
          "user_tz": -330,
          "elapsed": 15815,
          "user": {
            "displayName": "ayush gupta",
            "photoUrl": "//lh5.googleusercontent.com/-SmYRJDgC_jI/AAAAAAAAAAI/AAAAAAAACvk/Iqu4XSMC0tM/s50-c-k-no/photo.jpg",
            "userId": "107111856202799795670"
          }
        }
      },
      "cell_type": "code",
      "source": [
        "!pip install gensim"
      ],
      "execution_count": 25,
      "outputs": [
        {
          "output_type": "stream",
          "text": [
            "Collecting gensim\n",
            "  Downloading gensim-3.4.0-cp36-cp36m-manylinux1_x86_64.whl (22.6MB)\n",
            "\u001b[K    100% |████████████████████████████████| 22.6MB 59kB/s \n",
            "\u001b[?25hRequirement already satisfied: scipy>=0.18.1 in /usr/local/lib/python3.6/dist-packages (from gensim)\n",
            "Collecting smart-open>=1.2.1 (from gensim)\n",
            "  Downloading smart_open-1.5.7.tar.gz\n",
            "Requirement already satisfied: six>=1.5.0 in /usr/local/lib/python3.6/dist-packages (from gensim)\n",
            "Requirement already satisfied: numpy>=1.11.3 in /usr/local/lib/python3.6/dist-packages (from gensim)\n",
            "Collecting boto3 (from smart-open>=1.2.1->gensim)\n",
            "  Downloading boto3-1.6.21-py2.py3-none-any.whl (128kB)\n",
            "\u001b[K    100% |████████████████████████████████| 133kB 7.9MB/s \n",
            "\u001b[?25hCollecting boto>=2.32 (from smart-open>=1.2.1->gensim)\n",
            "  Downloading boto-2.48.0-py2.py3-none-any.whl (1.4MB)\n",
            "\u001b[K    100% |████████████████████████████████| 1.4MB 908kB/s \n",
            "\u001b[?25hCollecting bz2file (from smart-open>=1.2.1->gensim)\n",
            "  Downloading bz2file-0.98.tar.gz\n",
            "Requirement already satisfied: requests in /usr/local/lib/python3.6/dist-packages (from smart-open>=1.2.1->gensim)\n",
            "Collecting botocore<1.10.0,>=1.9.21 (from boto3->smart-open>=1.2.1->gensim)\n",
            "  Downloading botocore-1.9.21-py2.py3-none-any.whl (4.1MB)\n",
            "\u001b[K    100% |████████████████████████████████| 4.1MB 312kB/s \n",
            "\u001b[?25hCollecting jmespath<1.0.0,>=0.7.1 (from boto3->smart-open>=1.2.1->gensim)\n",
            "  Downloading jmespath-0.9.3-py2.py3-none-any.whl\n",
            "Collecting s3transfer<0.2.0,>=0.1.10 (from boto3->smart-open>=1.2.1->gensim)\n",
            "  Downloading s3transfer-0.1.13-py2.py3-none-any.whl (59kB)\n",
            "\u001b[K    100% |████████████████████████████████| 61kB 9.8MB/s \n",
            "\u001b[?25hRequirement already satisfied: certifi>=2017.4.17 in /usr/local/lib/python3.6/dist-packages (from requests->smart-open>=1.2.1->gensim)\n",
            "Requirement already satisfied: chardet<3.1.0,>=3.0.2 in /usr/local/lib/python3.6/dist-packages (from requests->smart-open>=1.2.1->gensim)\n",
            "Requirement already satisfied: idna<2.7,>=2.5 in /usr/local/lib/python3.6/dist-packages (from requests->smart-open>=1.2.1->gensim)\n",
            "Requirement already satisfied: urllib3<1.23,>=1.21.1 in /usr/local/lib/python3.6/dist-packages (from requests->smart-open>=1.2.1->gensim)\n",
            "Requirement already satisfied: python-dateutil<2.7.0,>=2.1 in /usr/local/lib/python3.6/dist-packages (from botocore<1.10.0,>=1.9.21->boto3->smart-open>=1.2.1->gensim)\n",
            "Collecting docutils>=0.10 (from botocore<1.10.0,>=1.9.21->boto3->smart-open>=1.2.1->gensim)\n",
            "  Downloading docutils-0.14-py3-none-any.whl (543kB)\n",
            "\u001b[K    100% |████████████████████████████████| 552kB 2.3MB/s \n",
            "\u001b[?25hBuilding wheels for collected packages: smart-open, bz2file\n",
            "  Running setup.py bdist_wheel for smart-open ... \u001b[?25l-\b \b\\\b \bdone\n",
            "\u001b[?25h  Stored in directory: /content/.cache/pip/wheels/cf/54/36/b003d8c2d26aadffc21f0677009ed53cf9575a97fc71fbba76\n",
            "  Running setup.py bdist_wheel for bz2file ... \u001b[?25l-\b \bdone\n",
            "\u001b[?25h  Stored in directory: /content/.cache/pip/wheels/31/9c/20/996d65ca104cbca940b1b053299b68459391c01c774d073126\n",
            "Successfully built smart-open bz2file\n",
            "Installing collected packages: jmespath, docutils, botocore, s3transfer, boto3, boto, bz2file, smart-open, gensim\n",
            "Successfully installed boto-2.48.0 boto3-1.6.21 botocore-1.9.21 bz2file-0.98 docutils-0.14 gensim-3.4.0 jmespath-0.9.3 s3transfer-0.1.13 smart-open-1.5.7\n"
          ],
          "name": "stdout"
        }
      ]
    },
    {
      "metadata": {
        "id": "t4QT7weC6lOR",
        "colab_type": "code",
        "colab": {
          "autoexec": {
            "startup": false,
            "wait_interval": 0
          },
          "output_extras": [
            {
              "item_id": 1
            },
            {
              "item_id": 2
            },
            {
              "item_id": 10
            },
            {
              "item_id": 17
            },
            {
              "item_id": 56
            },
            {
              "item_id": 94
            },
            {
              "item_id": 132
            },
            {
              "item_id": 170
            },
            {
              "item_id": 208
            },
            {
              "item_id": 210
            }
          ],
          "base_uri": "https://localhost:8080/",
          "height": 5509
        },
        "outputId": "9d8988c7-ec65-41b0-cc5a-84af72cdb71b",
        "executionInfo": {
          "status": "ok",
          "timestamp": 1522705064844,
          "user_tz": -330,
          "elapsed": 196010,
          "user": {
            "displayName": "ayush gupta",
            "photoUrl": "//lh5.googleusercontent.com/-SmYRJDgC_jI/AAAAAAAAAAI/AAAAAAAACvk/Iqu4XSMC0tM/s50-c-k-no/photo.jpg",
            "userId": "107111856202799795670"
          }
        }
      },
      "cell_type": "code",
      "source": [
        "# Import the built-in logging module and configure it so that Word2Vec \n",
        "# creates nice output messages\n",
        "import logging\n",
        "logging.basicConfig(format='%(asctime)s : %(levelname)s : %(message)s',\\\n",
        "    level=logging.INFO)\n",
        "\n",
        "# Set values for various parameters\n",
        "num_features = 300    # Word vector dimensionality                      \n",
        "min_word_count = 40   # Minimum word count                        \n",
        "num_workers = 4       # Number of threads to run in parallel\n",
        "context = 10          # Context window size                                                                                    \n",
        "downsampling = 1e-3   # Downsample setting for frequent words\n",
        "\n",
        "# Initialize and train the model (this will take some time)\n",
        "from gensim.models import word2vec\n",
        "print (\"Training model...\")\n",
        "model = word2vec.Word2Vec(sentences, workers=num_workers, \\\n",
        "            size=num_features, min_count = min_word_count, \\\n",
        "            window = context, sample = downsampling)\n",
        "\n",
        "# If you don't plan to train the model any further, calling \n",
        "# init_sims will make the model much more memory-efficient.\n",
        "model.init_sims(replace=True)\n",
        "\n",
        "# It can be helpful to create a meaningful model name and \n",
        "# save the model for later use. You can load it later using Word2Vec.load()\n",
        "model_name = \"300features_40minwords_10context\"\n",
        "model.save(model_name)"
      ],
      "execution_count": 26,
      "outputs": [
        {
          "output_type": "stream",
          "text": [
            "2018-04-02 21:34:31,235 : INFO : 'pattern' package not found; tag filters are not available for English\n",
            "2018-04-02 21:34:31,244 : INFO : collecting all words and their counts\n",
            "2018-04-02 21:34:31,245 : INFO : PROGRESS: at sentence #0, processed 0 words, keeping 0 word types\n",
            "2018-04-02 21:34:31,317 : INFO : PROGRESS: at sentence #10000, processed 225803 words, keeping 17776 word types\n",
            "2018-04-02 21:34:31,391 : INFO : PROGRESS: at sentence #20000, processed 451892 words, keeping 24948 word types\n"
          ],
          "name": "stderr"
        },
        {
          "output_type": "stream",
          "text": [
            "Training model...\n"
          ],
          "name": "stdout"
        },
        {
          "output_type": "stream",
          "text": [
            "2018-04-02 21:34:31,467 : INFO : PROGRESS: at sentence #30000, processed 671315 words, keeping 30034 word types\n",
            "2018-04-02 21:34:31,540 : INFO : PROGRESS: at sentence #40000, processed 897815 words, keeping 34348 word types\n",
            "2018-04-02 21:34:31,612 : INFO : PROGRESS: at sentence #50000, processed 1116963 words, keeping 37761 word types\n",
            "2018-04-02 21:34:31,684 : INFO : PROGRESS: at sentence #60000, processed 1338404 words, keeping 40723 word types\n",
            "2018-04-02 21:34:31,766 : INFO : PROGRESS: at sentence #70000, processed 1561580 words, keeping 43333 word types\n",
            "2018-04-02 21:34:31,841 : INFO : PROGRESS: at sentence #80000, processed 1780887 words, keeping 45714 word types\n",
            "2018-04-02 21:34:31,914 : INFO : PROGRESS: at sentence #90000, processed 2004996 words, keeping 48135 word types\n",
            "2018-04-02 21:34:31,986 : INFO : PROGRESS: at sentence #100000, processed 2226967 words, keeping 50207 word types\n",
            "2018-04-02 21:34:32,059 : INFO : PROGRESS: at sentence #110000, processed 2446581 words, keeping 52081 word types\n",
            "2018-04-02 21:34:32,131 : INFO : PROGRESS: at sentence #120000, processed 2668776 words, keeping 54119 word types\n",
            "2018-04-02 21:34:32,205 : INFO : PROGRESS: at sentence #130000, processed 2894304 words, keeping 55847 word types\n",
            "2018-04-02 21:34:32,275 : INFO : PROGRESS: at sentence #140000, processed 3107006 words, keeping 57346 word types\n",
            "2018-04-02 21:34:32,354 : INFO : PROGRESS: at sentence #150000, processed 3332628 words, keeping 59055 word types\n",
            "2018-04-02 21:34:32,426 : INFO : PROGRESS: at sentence #160000, processed 3555316 words, keeping 60617 word types\n",
            "2018-04-02 21:34:32,500 : INFO : PROGRESS: at sentence #170000, processed 3778656 words, keeping 62077 word types\n",
            "2018-04-02 21:34:32,572 : INFO : PROGRESS: at sentence #180000, processed 3999237 words, keeping 63496 word types\n",
            "2018-04-02 21:34:32,645 : INFO : PROGRESS: at sentence #190000, processed 4224450 words, keeping 64794 word types\n",
            "2018-04-02 21:34:32,723 : INFO : PROGRESS: at sentence #200000, processed 4448604 words, keeping 66087 word types\n",
            "2018-04-02 21:34:32,797 : INFO : PROGRESS: at sentence #210000, processed 4669968 words, keeping 67390 word types\n",
            "2018-04-02 21:34:32,871 : INFO : PROGRESS: at sentence #220000, processed 4894969 words, keeping 68697 word types\n",
            "2018-04-02 21:34:32,944 : INFO : PROGRESS: at sentence #230000, processed 5117546 words, keeping 69958 word types\n",
            "2018-04-02 21:34:33,019 : INFO : PROGRESS: at sentence #240000, processed 5345051 words, keeping 71167 word types\n",
            "2018-04-02 21:34:33,098 : INFO : PROGRESS: at sentence #250000, processed 5559166 words, keeping 72351 word types\n",
            "2018-04-02 21:34:33,172 : INFO : PROGRESS: at sentence #260000, processed 5779147 words, keeping 73478 word types\n",
            "2018-04-02 21:34:33,245 : INFO : PROGRESS: at sentence #270000, processed 6000436 words, keeping 74767 word types\n",
            "2018-04-02 21:34:33,319 : INFO : PROGRESS: at sentence #280000, processed 6226315 words, keeping 76369 word types\n",
            "2018-04-02 21:34:33,394 : INFO : PROGRESS: at sentence #290000, processed 6449475 words, keeping 77839 word types\n",
            "2018-04-02 21:34:33,472 : INFO : PROGRESS: at sentence #300000, processed 6674078 words, keeping 79171 word types\n",
            "2018-04-02 21:34:33,547 : INFO : PROGRESS: at sentence #310000, processed 6899392 words, keeping 80480 word types\n",
            "2018-04-02 21:34:33,625 : INFO : PROGRESS: at sentence #320000, processed 7124279 words, keeping 81808 word types\n",
            "2018-04-02 21:34:33,698 : INFO : PROGRESS: at sentence #330000, processed 7346022 words, keeping 83030 word types\n",
            "2018-04-02 21:34:33,774 : INFO : PROGRESS: at sentence #340000, processed 7575534 words, keeping 84280 word types\n",
            "2018-04-02 21:34:33,847 : INFO : PROGRESS: at sentence #350000, processed 7798804 words, keeping 85425 word types\n",
            "2018-04-02 21:34:33,927 : INFO : PROGRESS: at sentence #360000, processed 8019467 words, keeping 86596 word types\n",
            "2018-04-02 21:34:34,006 : INFO : PROGRESS: at sentence #370000, processed 8246659 words, keeping 87708 word types\n",
            "2018-04-02 21:34:34,081 : INFO : PROGRESS: at sentence #380000, processed 8471806 words, keeping 88878 word types\n",
            "2018-04-02 21:34:34,158 : INFO : PROGRESS: at sentence #390000, processed 8701556 words, keeping 89907 word types\n",
            "2018-04-02 21:34:34,234 : INFO : PROGRESS: at sentence #400000, processed 8924505 words, keeping 90916 word types\n",
            "2018-04-02 21:34:34,312 : INFO : PROGRESS: at sentence #410000, processed 9145855 words, keeping 91880 word types\n",
            "2018-04-02 21:34:34,393 : INFO : PROGRESS: at sentence #420000, processed 9366935 words, keeping 92912 word types\n",
            "2018-04-02 21:34:34,470 : INFO : PROGRESS: at sentence #430000, processed 9594472 words, keeping 93932 word types\n"
          ],
          "name": "stderr"
        },
        {
          "output_type": "stream",
          "text": [
            "2018-04-02 21:34:34,547 : INFO : PROGRESS: at sentence #440000, processed 9821225 words, keeping 94906 word types\n",
            "2018-04-02 21:34:34,625 : INFO : PROGRESS: at sentence #450000, processed 10044987 words, keeping 96036 word types\n",
            "2018-04-02 21:34:34,704 : INFO : PROGRESS: at sentence #460000, processed 10277747 words, keeping 97088 word types\n",
            "2018-04-02 21:34:34,787 : INFO : PROGRESS: at sentence #470000, processed 10505672 words, keeping 97933 word types\n",
            "2018-04-02 21:34:34,864 : INFO : PROGRESS: at sentence #480000, processed 10726056 words, keeping 98862 word types\n",
            "2018-04-02 21:34:34,942 : INFO : PROGRESS: at sentence #490000, processed 10952800 words, keeping 99871 word types\n",
            "2018-04-02 21:34:35,017 : INFO : PROGRESS: at sentence #500000, processed 11174456 words, keeping 100765 word types\n",
            "2018-04-02 21:34:35,093 : INFO : PROGRESS: at sentence #510000, processed 11399731 words, keeping 101699 word types\n",
            "2018-04-02 21:34:35,170 : INFO : PROGRESS: at sentence #520000, processed 11623082 words, keeping 102598 word types\n",
            "2018-04-02 21:34:35,251 : INFO : PROGRESS: at sentence #530000, processed 11847480 words, keeping 103400 word types\n",
            "2018-04-02 21:34:35,327 : INFO : PROGRESS: at sentence #540000, processed 12072095 words, keeping 104265 word types\n",
            "2018-04-02 21:34:35,405 : INFO : PROGRESS: at sentence #550000, processed 12297646 words, keeping 105133 word types\n",
            "2018-04-02 21:34:35,482 : INFO : PROGRESS: at sentence #560000, processed 12518936 words, keeping 105997 word types\n",
            "2018-04-02 21:34:35,561 : INFO : PROGRESS: at sentence #570000, processed 12748083 words, keeping 106787 word types\n",
            "2018-04-02 21:34:35,641 : INFO : PROGRESS: at sentence #580000, processed 12969579 words, keeping 107665 word types\n",
            "2018-04-02 21:34:35,718 : INFO : PROGRESS: at sentence #590000, processed 13195104 words, keeping 108501 word types\n",
            "2018-04-02 21:34:35,798 : INFO : PROGRESS: at sentence #600000, processed 13417302 words, keeping 109218 word types\n",
            "2018-04-02 21:34:35,871 : INFO : PROGRESS: at sentence #610000, processed 13638325 words, keeping 110092 word types\n",
            "2018-04-02 21:34:35,949 : INFO : PROGRESS: at sentence #620000, processed 13864650 words, keeping 110837 word types\n",
            "2018-04-02 21:34:36,028 : INFO : PROGRESS: at sentence #630000, processed 14088936 words, keeping 111610 word types\n",
            "2018-04-02 21:34:36,104 : INFO : PROGRESS: at sentence #640000, processed 14309719 words, keeping 112416 word types\n",
            "2018-04-02 21:34:36,189 : INFO : PROGRESS: at sentence #650000, processed 14535475 words, keeping 113196 word types\n",
            "2018-04-02 21:34:36,267 : INFO : PROGRESS: at sentence #660000, processed 14758265 words, keeping 113945 word types\n",
            "2018-04-02 21:34:36,345 : INFO : PROGRESS: at sentence #670000, processed 14981658 words, keeping 114643 word types\n",
            "2018-04-02 21:34:36,422 : INFO : PROGRESS: at sentence #680000, processed 15206490 words, keeping 115354 word types\n",
            "2018-04-02 21:34:36,497 : INFO : PROGRESS: at sentence #690000, processed 15428683 words, keeping 116131 word types\n",
            "2018-04-02 21:34:36,576 : INFO : PROGRESS: at sentence #700000, processed 15657389 words, keeping 116943 word types\n",
            "2018-04-02 21:34:36,652 : INFO : PROGRESS: at sentence #710000, processed 15880378 words, keeping 117596 word types\n",
            "2018-04-02 21:34:36,736 : INFO : PROGRESS: at sentence #720000, processed 16105665 words, keeping 118221 word types\n",
            "2018-04-02 21:34:36,815 : INFO : PROGRESS: at sentence #730000, processed 16332046 words, keeping 118954 word types\n",
            "2018-04-02 21:34:36,894 : INFO : PROGRESS: at sentence #740000, processed 16553079 words, keeping 119668 word types\n",
            "2018-04-02 21:34:36,967 : INFO : PROGRESS: at sentence #750000, processed 16771406 words, keeping 120295 word types\n",
            "2018-04-02 21:34:37,042 : INFO : PROGRESS: at sentence #760000, processed 16990810 words, keeping 120930 word types\n",
            "2018-04-02 21:34:37,127 : INFO : PROGRESS: at sentence #770000, processed 17217947 words, keeping 121703 word types\n",
            "2018-04-02 21:34:37,206 : INFO : PROGRESS: at sentence #780000, processed 17448093 words, keeping 122402 word types\n",
            "2018-04-02 21:34:37,281 : INFO : PROGRESS: at sentence #790000, processed 17675169 words, keeping 123066 word types\n",
            "2018-04-02 21:34:37,325 : INFO : collected 123504 word types from a corpus of 17798270 raw words and 795538 sentences\n",
            "2018-04-02 21:34:37,326 : INFO : Loading a fresh vocabulary\n",
            "2018-04-02 21:34:37,422 : INFO : min_count=40 retains 16490 unique words (13% of original 123504, drops 107014)\n",
            "2018-04-02 21:34:37,424 : INFO : min_count=40 leaves 17239125 word corpus (96% of original 17798270, drops 559145)\n",
            "2018-04-02 21:34:37,482 : INFO : deleting the raw counts dictionary of 123504 items\n"
          ],
          "name": "stderr"
        },
        {
          "output_type": "stream",
          "text": [
            "2018-04-02 21:34:37,489 : INFO : sample=0.001 downsamples 48 most-common words\n",
            "2018-04-02 21:34:37,490 : INFO : downsampling leaves estimated 12749798 word corpus (74.0% of prior 17239125)\n",
            "2018-04-02 21:34:37,540 : INFO : estimated required memory for 16490 words and 300 dimensions: 47821000 bytes\n",
            "2018-04-02 21:34:37,542 : INFO : resetting layer weights\n",
            "2018-04-02 21:34:37,845 : INFO : training model with 4 workers on 16490 vocabulary and 300 features, using sg=0 hs=0 sample=0.001 negative=5 window=10\n",
            "2018-04-02 21:34:38,887 : INFO : EPOCH 1 - PROGRESS: at 2.56% examples, 319883 words/s, in_qsize 6, out_qsize 1\n",
            "2018-04-02 21:34:39,910 : INFO : EPOCH 1 - PROGRESS: at 5.37% examples, 334706 words/s, in_qsize 7, out_qsize 0\n",
            "2018-04-02 21:34:40,910 : INFO : EPOCH 1 - PROGRESS: at 8.06% examples, 334998 words/s, in_qsize 7, out_qsize 0\n",
            "2018-04-02 21:34:41,919 : INFO : EPOCH 1 - PROGRESS: at 10.76% examples, 336443 words/s, in_qsize 7, out_qsize 0\n",
            "2018-04-02 21:34:42,920 : INFO : EPOCH 1 - PROGRESS: at 13.31% examples, 333685 words/s, in_qsize 6, out_qsize 1\n",
            "2018-04-02 21:34:43,932 : INFO : EPOCH 1 - PROGRESS: at 16.06% examples, 335830 words/s, in_qsize 8, out_qsize 1\n",
            "2018-04-02 21:34:44,935 : INFO : EPOCH 1 - PROGRESS: at 18.81% examples, 336643 words/s, in_qsize 6, out_qsize 1\n",
            "2018-04-02 21:34:45,936 : INFO : EPOCH 1 - PROGRESS: at 21.46% examples, 336570 words/s, in_qsize 7, out_qsize 0\n",
            "2018-04-02 21:34:46,960 : INFO : EPOCH 1 - PROGRESS: at 24.27% examples, 338007 words/s, in_qsize 7, out_qsize 0\n",
            "2018-04-02 21:34:47,982 : INFO : EPOCH 1 - PROGRESS: at 26.91% examples, 337014 words/s, in_qsize 7, out_qsize 0\n",
            "2018-04-02 21:34:48,994 : INFO : EPOCH 1 - PROGRESS: at 29.64% examples, 337859 words/s, in_qsize 7, out_qsize 0\n",
            "2018-04-02 21:34:50,045 : INFO : EPOCH 1 - PROGRESS: at 32.46% examples, 337406 words/s, in_qsize 7, out_qsize 0\n",
            "2018-04-02 21:34:51,049 : INFO : EPOCH 1 - PROGRESS: at 35.15% examples, 337734 words/s, in_qsize 6, out_qsize 1\n",
            "2018-04-02 21:34:52,055 : INFO : EPOCH 1 - PROGRESS: at 37.84% examples, 337990 words/s, in_qsize 7, out_qsize 0\n",
            "2018-04-02 21:34:53,063 : INFO : EPOCH 1 - PROGRESS: at 40.46% examples, 337694 words/s, in_qsize 8, out_qsize 0\n",
            "2018-04-02 21:34:54,075 : INFO : EPOCH 1 - PROGRESS: at 43.08% examples, 337346 words/s, in_qsize 6, out_qsize 1\n",
            "2018-04-02 21:34:55,084 : INFO : EPOCH 1 - PROGRESS: at 45.71% examples, 337068 words/s, in_qsize 8, out_qsize 1\n",
            "2018-04-02 21:34:56,103 : INFO : EPOCH 1 - PROGRESS: at 48.43% examples, 337474 words/s, in_qsize 7, out_qsize 0\n",
            "2018-04-02 21:34:57,134 : INFO : EPOCH 1 - PROGRESS: at 51.18% examples, 337619 words/s, in_qsize 7, out_qsize 0\n",
            "2018-04-02 21:34:58,186 : INFO : EPOCH 1 - PROGRESS: at 53.99% examples, 337899 words/s, in_qsize 7, out_qsize 0\n",
            "2018-04-02 21:34:59,207 : INFO : EPOCH 1 - PROGRESS: at 56.66% examples, 337628 words/s, in_qsize 7, out_qsize 0\n",
            "2018-04-02 21:35:00,248 : INFO : EPOCH 1 - PROGRESS: at 59.28% examples, 337397 words/s, in_qsize 7, out_qsize 1\n",
            "2018-04-02 21:35:01,240 : INFO : EPOCH 1 - PROGRESS: at 62.03% examples, 337940 words/s, in_qsize 7, out_qsize 0\n",
            "2018-04-02 21:35:02,295 : INFO : EPOCH 1 - PROGRESS: at 64.73% examples, 337517 words/s, in_qsize 7, out_qsize 2\n",
            "2018-04-02 21:35:03,294 : INFO : EPOCH 1 - PROGRESS: at 67.40% examples, 337651 words/s, in_qsize 7, out_qsize 0\n",
            "2018-04-02 21:35:04,321 : INFO : EPOCH 1 - PROGRESS: at 70.16% examples, 337801 words/s, in_qsize 7, out_qsize 0\n",
            "2018-04-02 21:35:05,326 : INFO : EPOCH 1 - PROGRESS: at 72.84% examples, 337962 words/s, in_qsize 7, out_qsize 0\n",
            "2018-04-02 21:35:06,357 : INFO : EPOCH 1 - PROGRESS: at 75.59% examples, 338030 words/s, in_qsize 7, out_qsize 0\n",
            "2018-04-02 21:35:07,367 : INFO : EPOCH 1 - PROGRESS: at 78.22% examples, 337850 words/s, in_qsize 6, out_qsize 1\n",
            "2018-04-02 21:35:08,396 : INFO : EPOCH 1 - PROGRESS: at 81.04% examples, 338182 words/s, in_qsize 7, out_qsize 0\n",
            "2018-04-02 21:35:09,426 : INFO : EPOCH 1 - PROGRESS: at 83.72% examples, 338009 words/s, in_qsize 6, out_qsize 1\n",
            "2018-04-02 21:35:10,434 : INFO : EPOCH 1 - PROGRESS: at 86.48% examples, 338314 words/s, in_qsize 7, out_qsize 0\n",
            "2018-04-02 21:35:11,450 : INFO : EPOCH 1 - PROGRESS: at 89.14% examples, 338291 words/s, in_qsize 7, out_qsize 0\n",
            "2018-04-02 21:35:12,497 : INFO : EPOCH 1 - PROGRESS: at 91.92% examples, 338401 words/s, in_qsize 7, out_qsize 0\n",
            "2018-04-02 21:35:13,497 : INFO : EPOCH 1 - PROGRESS: at 94.66% examples, 338534 words/s, in_qsize 8, out_qsize 0\n",
            "2018-04-02 21:35:14,520 : INFO : EPOCH 1 - PROGRESS: at 97.40% examples, 338645 words/s, in_qsize 7, out_qsize 0\n",
            "2018-04-02 21:35:15,457 : INFO : worker thread finished; awaiting finish of 3 more threads\n"
          ],
          "name": "stderr"
        },
        {
          "output_type": "stream",
          "text": [
            "2018-04-02 21:35:15,459 : INFO : worker thread finished; awaiting finish of 2 more threads\n",
            "2018-04-02 21:35:15,473 : INFO : worker thread finished; awaiting finish of 1 more threads\n",
            "2018-04-02 21:35:15,481 : INFO : worker thread finished; awaiting finish of 0 more threads\n",
            "2018-04-02 21:35:15,482 : INFO : EPOCH - 1 : training on 17798270 raw words (12751468 effective words) took 37.6s, 338917 effective words/s\n",
            "2018-04-02 21:35:16,524 : INFO : EPOCH 2 - PROGRESS: at 2.62% examples, 325321 words/s, in_qsize 7, out_qsize 0\n",
            "2018-04-02 21:35:17,543 : INFO : EPOCH 2 - PROGRESS: at 5.36% examples, 334281 words/s, in_qsize 7, out_qsize 0\n",
            "2018-04-02 21:35:18,568 : INFO : EPOCH 2 - PROGRESS: at 8.16% examples, 336708 words/s, in_qsize 7, out_qsize 0\n",
            "2018-04-02 21:35:19,571 : INFO : EPOCH 2 - PROGRESS: at 10.87% examples, 338115 words/s, in_qsize 7, out_qsize 0\n",
            "2018-04-02 21:35:20,579 : INFO : EPOCH 2 - PROGRESS: at 13.60% examples, 338771 words/s, in_qsize 7, out_qsize 0\n",
            "2018-04-02 21:35:21,580 : INFO : EPOCH 2 - PROGRESS: at 16.23% examples, 338307 words/s, in_qsize 8, out_qsize 1\n",
            "2018-04-02 21:35:22,626 : INFO : EPOCH 2 - PROGRESS: at 19.09% examples, 338792 words/s, in_qsize 7, out_qsize 0\n",
            "2018-04-02 21:35:23,636 : INFO : EPOCH 2 - PROGRESS: at 21.86% examples, 339774 words/s, in_qsize 7, out_qsize 0\n",
            "2018-04-02 21:35:24,642 : INFO : EPOCH 2 - PROGRESS: at 24.50% examples, 339159 words/s, in_qsize 8, out_qsize 0\n",
            "2018-04-02 21:35:25,647 : INFO : EPOCH 2 - PROGRESS: at 27.25% examples, 340025 words/s, in_qsize 7, out_qsize 0\n",
            "2018-04-02 21:35:26,665 : INFO : EPOCH 2 - PROGRESS: at 30.04% examples, 341020 words/s, in_qsize 7, out_qsize 0\n",
            "2018-04-02 21:35:27,696 : INFO : EPOCH 2 - PROGRESS: at 32.86% examples, 340816 words/s, in_qsize 7, out_qsize 0\n",
            "2018-04-02 21:35:28,736 : INFO : EPOCH 2 - PROGRESS: at 35.60% examples, 340455 words/s, in_qsize 7, out_qsize 0\n",
            "2018-04-02 21:35:29,763 : INFO : EPOCH 2 - PROGRESS: at 38.34% examples, 340526 words/s, in_qsize 7, out_qsize 0\n",
            "2018-04-02 21:35:30,792 : INFO : EPOCH 2 - PROGRESS: at 41.09% examples, 340522 words/s, in_qsize 7, out_qsize 0\n",
            "2018-04-02 21:35:31,806 : INFO : EPOCH 2 - PROGRESS: at 43.81% examples, 340860 words/s, in_qsize 7, out_qsize 0\n",
            "2018-04-02 21:35:32,814 : INFO : EPOCH 2 - PROGRESS: at 46.50% examples, 340812 words/s, in_qsize 7, out_qsize 0\n",
            "2018-04-02 21:35:33,815 : INFO : EPOCH 2 - PROGRESS: at 49.27% examples, 341728 words/s, in_qsize 7, out_qsize 0\n",
            "2018-04-02 21:35:34,831 : INFO : EPOCH 2 - PROGRESS: at 51.92% examples, 341149 words/s, in_qsize 7, out_qsize 0\n",
            "2018-04-02 21:35:35,843 : INFO : EPOCH 2 - PROGRESS: at 54.60% examples, 341046 words/s, in_qsize 7, out_qsize 0\n",
            "2018-04-02 21:35:36,843 : INFO : EPOCH 2 - PROGRESS: at 57.31% examples, 341464 words/s, in_qsize 7, out_qsize 0\n",
            "2018-04-02 21:35:37,855 : INFO : EPOCH 2 - PROGRESS: at 59.89% examples, 341044 words/s, in_qsize 7, out_qsize 0\n",
            "2018-04-02 21:35:38,862 : INFO : EPOCH 2 - PROGRESS: at 62.60% examples, 341012 words/s, in_qsize 7, out_qsize 0\n",
            "2018-04-02 21:35:39,863 : INFO : EPOCH 2 - PROGRESS: at 65.23% examples, 340800 words/s, in_qsize 7, out_qsize 0\n",
            "2018-04-02 21:35:40,890 : INFO : EPOCH 2 - PROGRESS: at 67.92% examples, 340541 words/s, in_qsize 6, out_qsize 1\n",
            "2018-04-02 21:35:41,917 : INFO : EPOCH 2 - PROGRESS: at 70.66% examples, 340590 words/s, in_qsize 6, out_qsize 1\n",
            "2018-04-02 21:35:42,925 : INFO : EPOCH 2 - PROGRESS: at 73.34% examples, 340590 words/s, in_qsize 6, out_qsize 1\n",
            "2018-04-02 21:35:43,941 : INFO : EPOCH 2 - PROGRESS: at 76.05% examples, 340483 words/s, in_qsize 7, out_qsize 0\n",
            "2018-04-02 21:35:44,948 : INFO : EPOCH 2 - PROGRESS: at 78.67% examples, 340258 words/s, in_qsize 6, out_qsize 1\n",
            "2018-04-02 21:35:45,976 : INFO : EPOCH 2 - PROGRESS: at 81.43% examples, 340283 words/s, in_qsize 7, out_qsize 0\n",
            "2018-04-02 21:35:46,987 : INFO : EPOCH 2 - PROGRESS: at 84.17% examples, 340487 words/s, in_qsize 7, out_qsize 0\n",
            "2018-04-02 21:35:48,024 : INFO : EPOCH 2 - PROGRESS: at 86.86% examples, 340187 words/s, in_qsize 7, out_qsize 0\n",
            "2018-04-02 21:35:49,032 : INFO : EPOCH 2 - PROGRESS: at 89.53% examples, 340201 words/s, in_qsize 7, out_qsize 0\n",
            "2018-04-02 21:35:50,044 : INFO : EPOCH 2 - PROGRESS: at 92.21% examples, 340181 words/s, in_qsize 7, out_qsize 0\n",
            "2018-04-02 21:35:51,055 : INFO : EPOCH 2 - PROGRESS: at 95.00% examples, 340355 words/s, in_qsize 7, out_qsize 0\n",
            "2018-04-02 21:35:52,056 : INFO : EPOCH 2 - PROGRESS: at 97.51% examples, 339840 words/s, in_qsize 8, out_qsize 0\n",
            "2018-04-02 21:35:52,896 : INFO : worker thread finished; awaiting finish of 3 more threads\n"
          ],
          "name": "stderr"
        },
        {
          "output_type": "stream",
          "text": [
            "2018-04-02 21:35:52,925 : INFO : worker thread finished; awaiting finish of 2 more threads\n",
            "2018-04-02 21:35:52,949 : INFO : worker thread finished; awaiting finish of 1 more threads\n",
            "2018-04-02 21:35:52,952 : INFO : worker thread finished; awaiting finish of 0 more threads\n",
            "2018-04-02 21:35:52,954 : INFO : EPOCH - 2 : training on 17798270 raw words (12747507 effective words) took 37.5s, 340267 effective words/s\n",
            "2018-04-02 21:35:53,985 : INFO : EPOCH 3 - PROGRESS: at 2.51% examples, 316214 words/s, in_qsize 8, out_qsize 1\n",
            "2018-04-02 21:35:54,994 : INFO : EPOCH 3 - PROGRESS: at 5.25% examples, 331827 words/s, in_qsize 7, out_qsize 0\n",
            "2018-04-02 21:35:56,017 : INFO : EPOCH 3 - PROGRESS: at 8.06% examples, 335340 words/s, in_qsize 7, out_qsize 0\n",
            "2018-04-02 21:35:57,039 : INFO : EPOCH 3 - PROGRESS: at 10.81% examples, 337266 words/s, in_qsize 7, out_qsize 0\n",
            "2018-04-02 21:35:58,072 : INFO : EPOCH 3 - PROGRESS: at 13.60% examples, 338293 words/s, in_qsize 7, out_qsize 1\n",
            "2018-04-02 21:35:59,105 : INFO : EPOCH 3 - PROGRESS: at 16.41% examples, 339140 words/s, in_qsize 7, out_qsize 0\n",
            "2018-04-02 21:36:00,127 : INFO : EPOCH 3 - PROGRESS: at 19.15% examples, 338587 words/s, in_qsize 7, out_qsize 0\n",
            "2018-04-02 21:36:01,139 : INFO : EPOCH 3 - PROGRESS: at 21.92% examples, 339581 words/s, in_qsize 7, out_qsize 0\n",
            "2018-04-02 21:36:02,164 : INFO : EPOCH 3 - PROGRESS: at 24.61% examples, 339123 words/s, in_qsize 7, out_qsize 0\n",
            "2018-04-02 21:36:03,213 : INFO : EPOCH 3 - PROGRESS: at 27.36% examples, 338554 words/s, in_qsize 6, out_qsize 1\n",
            "2018-04-02 21:36:04,266 : INFO : EPOCH 3 - PROGRESS: at 30.15% examples, 338607 words/s, in_qsize 6, out_qsize 1\n",
            "2018-04-02 21:36:05,313 : INFO : EPOCH 3 - PROGRESS: at 33.03% examples, 338817 words/s, in_qsize 5, out_qsize 2\n",
            "2018-04-02 21:36:06,345 : INFO : EPOCH 3 - PROGRESS: at 35.89% examples, 339892 words/s, in_qsize 7, out_qsize 0\n",
            "2018-04-02 21:36:07,353 : INFO : EPOCH 3 - PROGRESS: at 38.57% examples, 339957 words/s, in_qsize 7, out_qsize 0\n",
            "2018-04-02 21:36:08,379 : INFO : EPOCH 3 - PROGRESS: at 41.20% examples, 339130 words/s, in_qsize 7, out_qsize 0\n",
            "2018-04-02 21:36:09,442 : INFO : EPOCH 3 - PROGRESS: at 43.98% examples, 338968 words/s, in_qsize 6, out_qsize 1\n",
            "2018-04-02 21:36:10,471 : INFO : EPOCH 3 - PROGRESS: at 46.72% examples, 339039 words/s, in_qsize 7, out_qsize 0\n",
            "2018-04-02 21:36:11,508 : INFO : EPOCH 3 - PROGRESS: at 49.38% examples, 338610 words/s, in_qsize 6, out_qsize 1\n",
            "2018-04-02 21:36:12,520 : INFO : EPOCH 3 - PROGRESS: at 52.10% examples, 338644 words/s, in_qsize 7, out_qsize 0\n",
            "2018-04-02 21:36:13,542 : INFO : EPOCH 3 - PROGRESS: at 54.76% examples, 338488 words/s, in_qsize 6, out_qsize 1\n",
            "2018-04-02 21:36:14,582 : INFO : EPOCH 3 - PROGRESS: at 57.47% examples, 338407 words/s, in_qsize 6, out_qsize 1\n",
            "2018-04-02 21:36:15,586 : INFO : EPOCH 3 - PROGRESS: at 60.07% examples, 338228 words/s, in_qsize 7, out_qsize 0\n",
            "2018-04-02 21:36:16,588 : INFO : EPOCH 3 - PROGRESS: at 62.77% examples, 338404 words/s, in_qsize 6, out_qsize 1\n",
            "2018-04-02 21:36:17,596 : INFO : EPOCH 3 - PROGRESS: at 65.45% examples, 338494 words/s, in_qsize 8, out_qsize 1\n",
            "2018-04-02 21:36:18,637 : INFO : EPOCH 3 - PROGRESS: at 68.21% examples, 338426 words/s, in_qsize 7, out_qsize 0\n",
            "2018-04-02 21:36:19,671 : INFO : EPOCH 3 - PROGRESS: at 70.93% examples, 338461 words/s, in_qsize 7, out_qsize 0\n",
            "2018-04-02 21:36:20,673 : INFO : EPOCH 3 - PROGRESS: at 73.62% examples, 338612 words/s, in_qsize 7, out_qsize 0\n",
            "2018-04-02 21:36:21,693 : INFO : EPOCH 3 - PROGRESS: at 76.33% examples, 338521 words/s, in_qsize 7, out_qsize 0\n",
            "2018-04-02 21:36:22,726 : INFO : EPOCH 3 - PROGRESS: at 79.07% examples, 338562 words/s, in_qsize 7, out_qsize 0\n",
            "2018-04-02 21:36:23,751 : INFO : EPOCH 3 - PROGRESS: at 81.81% examples, 338661 words/s, in_qsize 7, out_qsize 0\n",
            "2018-04-02 21:36:24,761 : INFO : EPOCH 3 - PROGRESS: at 84.51% examples, 338701 words/s, in_qsize 7, out_qsize 0\n",
            "2018-04-02 21:36:25,807 : INFO : EPOCH 3 - PROGRESS: at 87.26% examples, 338585 words/s, in_qsize 6, out_qsize 1\n",
            "2018-04-02 21:36:26,847 : INFO : EPOCH 3 - PROGRESS: at 89.97% examples, 338531 words/s, in_qsize 6, out_qsize 1\n",
            "2018-04-02 21:36:27,896 : INFO : EPOCH 3 - PROGRESS: at 92.79% examples, 338591 words/s, in_qsize 6, out_qsize 1\n",
            "2018-04-02 21:36:28,903 : INFO : EPOCH 3 - PROGRESS: at 95.53% examples, 338660 words/s, in_qsize 7, out_qsize 0\n",
            "2018-04-02 21:36:29,913 : INFO : EPOCH 3 - PROGRESS: at 98.23% examples, 338885 words/s, in_qsize 7, out_qsize 0\n",
            "2018-04-02 21:36:30,510 : INFO : worker thread finished; awaiting finish of 3 more threads\n"
          ],
          "name": "stderr"
        },
        {
          "output_type": "stream",
          "text": [
            "2018-04-02 21:36:30,533 : INFO : worker thread finished; awaiting finish of 2 more threads\n",
            "2018-04-02 21:36:30,551 : INFO : worker thread finished; awaiting finish of 1 more threads\n",
            "2018-04-02 21:36:30,557 : INFO : worker thread finished; awaiting finish of 0 more threads\n",
            "2018-04-02 21:36:30,558 : INFO : EPOCH - 3 : training on 17798270 raw words (12748533 effective words) took 37.6s, 339138 effective words/s\n",
            "2018-04-02 21:36:31,573 : INFO : EPOCH 4 - PROGRESS: at 2.56% examples, 328221 words/s, in_qsize 7, out_qsize 0\n",
            "2018-04-02 21:36:32,591 : INFO : EPOCH 4 - PROGRESS: at 5.25% examples, 332691 words/s, in_qsize 7, out_qsize 0\n",
            "2018-04-02 21:36:33,605 : INFO : EPOCH 4 - PROGRESS: at 8.11% examples, 339201 words/s, in_qsize 7, out_qsize 0\n",
            "2018-04-02 21:36:34,649 : INFO : EPOCH 4 - PROGRESS: at 10.81% examples, 336678 words/s, in_qsize 6, out_qsize 1\n",
            "2018-04-02 21:36:35,651 : INFO : EPOCH 4 - PROGRESS: at 13.60% examples, 339434 words/s, in_qsize 7, out_qsize 0\n",
            "2018-04-02 21:36:36,674 : INFO : EPOCH 4 - PROGRESS: at 16.24% examples, 337657 words/s, in_qsize 6, out_qsize 1\n",
            "2018-04-02 21:36:37,685 : INFO : EPOCH 4 - PROGRESS: at 19.04% examples, 338842 words/s, in_qsize 7, out_qsize 0\n",
            "2018-04-02 21:36:38,707 : INFO : EPOCH 4 - PROGRESS: at 21.75% examples, 338513 words/s, in_qsize 6, out_qsize 1\n",
            "2018-04-02 21:36:39,709 : INFO : EPOCH 4 - PROGRESS: at 24.50% examples, 339718 words/s, in_qsize 7, out_qsize 0\n",
            "2018-04-02 21:36:40,716 : INFO : EPOCH 4 - PROGRESS: at 27.14% examples, 339078 words/s, in_qsize 7, out_qsize 0\n",
            "2018-04-02 21:36:41,726 : INFO : EPOCH 4 - PROGRESS: at 29.88% examples, 339776 words/s, in_qsize 7, out_qsize 0\n",
            "2018-04-02 21:36:42,732 : INFO : EPOCH 4 - PROGRESS: at 32.69% examples, 340456 words/s, in_qsize 7, out_qsize 0\n",
            "2018-04-02 21:36:43,738 : INFO : EPOCH 4 - PROGRESS: at 35.33% examples, 339934 words/s, in_qsize 7, out_qsize 0\n",
            "2018-04-02 21:36:44,743 : INFO : EPOCH 4 - PROGRESS: at 38.01% examples, 340054 words/s, in_qsize 7, out_qsize 0\n",
            "2018-04-02 21:36:45,755 : INFO : EPOCH 4 - PROGRESS: at 40.69% examples, 339980 words/s, in_qsize 7, out_qsize 0\n",
            "2018-04-02 21:36:46,764 : INFO : EPOCH 4 - PROGRESS: at 43.42% examples, 340457 words/s, in_qsize 6, out_qsize 1\n",
            "2018-04-02 21:36:47,778 : INFO : EPOCH 4 - PROGRESS: at 46.11% examples, 340341 words/s, in_qsize 6, out_qsize 1\n",
            "2018-04-02 21:36:48,788 : INFO : EPOCH 4 - PROGRESS: at 48.82% examples, 340712 words/s, in_qsize 6, out_qsize 1\n",
            "2018-04-02 21:36:49,822 : INFO : EPOCH 4 - PROGRESS: at 51.59% examples, 340635 words/s, in_qsize 7, out_qsize 0\n",
            "2018-04-02 21:36:50,837 : INFO : EPOCH 4 - PROGRESS: at 54.37% examples, 341220 words/s, in_qsize 7, out_qsize 0\n",
            "2018-04-02 21:36:51,839 : INFO : EPOCH 4 - PROGRESS: at 57.10% examples, 341596 words/s, in_qsize 7, out_qsize 0\n",
            "2018-04-02 21:36:52,889 : INFO : EPOCH 4 - PROGRESS: at 59.73% examples, 340929 words/s, in_qsize 6, out_qsize 1\n",
            "2018-04-02 21:36:53,915 : INFO : EPOCH 4 - PROGRESS: at 62.54% examples, 341357 words/s, in_qsize 7, out_qsize 1\n",
            "2018-04-02 21:36:54,930 : INFO : EPOCH 4 - PROGRESS: at 65.29% examples, 341450 words/s, in_qsize 7, out_qsize 0\n",
            "2018-04-02 21:36:55,937 : INFO : EPOCH 4 - PROGRESS: at 68.03% examples, 341788 words/s, in_qsize 7, out_qsize 0\n",
            "2018-04-02 21:36:56,939 : INFO : EPOCH 4 - PROGRESS: at 70.77% examples, 342029 words/s, in_qsize 7, out_qsize 0\n",
            "2018-04-02 21:36:57,942 : INFO : EPOCH 4 - PROGRESS: at 73.39% examples, 341780 words/s, in_qsize 7, out_qsize 0\n",
            "2018-04-02 21:36:58,952 : INFO : EPOCH 4 - PROGRESS: at 76.16% examples, 341972 words/s, in_qsize 7, out_qsize 0\n",
            "2018-04-02 21:36:59,989 : INFO : EPOCH 4 - PROGRESS: at 78.95% examples, 342079 words/s, in_qsize 7, out_qsize 0\n",
            "2018-04-02 21:37:00,990 : INFO : EPOCH 4 - PROGRESS: at 81.59% examples, 341845 words/s, in_qsize 7, out_qsize 0\n",
            "2018-04-02 21:37:02,042 : INFO : EPOCH 4 - PROGRESS: at 84.40% examples, 341922 words/s, in_qsize 7, out_qsize 1\n",
            "2018-04-02 21:37:03,031 : INFO : EPOCH 4 - PROGRESS: at 87.14% examples, 342152 words/s, in_qsize 7, out_qsize 0\n",
            "2018-04-02 21:37:04,071 : INFO : EPOCH 4 - PROGRESS: at 89.91% examples, 342208 words/s, in_qsize 7, out_qsize 0\n",
            "2018-04-02 21:37:05,117 : INFO : EPOCH 4 - PROGRESS: at 92.74% examples, 342190 words/s, in_qsize 7, out_qsize 0\n",
            "2018-04-02 21:37:06,126 : INFO : EPOCH 4 - PROGRESS: at 95.53% examples, 342329 words/s, in_qsize 7, out_qsize 0\n",
            "2018-04-02 21:37:07,154 : INFO : EPOCH 4 - PROGRESS: at 98.28% examples, 342488 words/s, in_qsize 7, out_qsize 0\n",
            "2018-04-02 21:37:07,716 : INFO : worker thread finished; awaiting finish of 3 more threads\n"
          ],
          "name": "stderr"
        },
        {
          "output_type": "stream",
          "text": [
            "2018-04-02 21:37:07,750 : INFO : worker thread finished; awaiting finish of 2 more threads\n",
            "2018-04-02 21:37:07,770 : INFO : worker thread finished; awaiting finish of 1 more threads\n",
            "2018-04-02 21:37:07,772 : INFO : worker thread finished; awaiting finish of 0 more threads\n",
            "2018-04-02 21:37:07,776 : INFO : EPOCH - 4 : training on 17798270 raw words (12750645 effective words) took 37.2s, 342713 effective words/s\n",
            "2018-04-02 21:37:08,802 : INFO : EPOCH 5 - PROGRESS: at 2.56% examples, 323065 words/s, in_qsize 5, out_qsize 2\n",
            "2018-04-02 21:37:09,839 : INFO : EPOCH 5 - PROGRESS: at 5.36% examples, 334400 words/s, in_qsize 7, out_qsize 1\n",
            "2018-04-02 21:37:10,874 : INFO : EPOCH 5 - PROGRESS: at 8.22% examples, 337605 words/s, in_qsize 7, out_qsize 0\n",
            "2018-04-02 21:37:11,878 : INFO : EPOCH 5 - PROGRESS: at 10.92% examples, 338742 words/s, in_qsize 6, out_qsize 1\n",
            "2018-04-02 21:37:12,880 : INFO : EPOCH 5 - PROGRESS: at 13.65% examples, 339633 words/s, in_qsize 7, out_qsize 0\n",
            "2018-04-02 21:37:13,881 : INFO : EPOCH 5 - PROGRESS: at 16.35% examples, 340210 words/s, in_qsize 7, out_qsize 0\n",
            "2018-04-02 21:37:14,909 : INFO : EPOCH 5 - PROGRESS: at 19.15% examples, 340114 words/s, in_qsize 7, out_qsize 0\n",
            "2018-04-02 21:37:15,936 : INFO : EPOCH 5 - PROGRESS: at 21.92% examples, 340299 words/s, in_qsize 5, out_qsize 2\n",
            "2018-04-02 21:37:16,976 : INFO : EPOCH 5 - PROGRESS: at 24.73% examples, 340719 words/s, in_qsize 5, out_qsize 2\n",
            "2018-04-02 21:37:18,005 : INFO : EPOCH 5 - PROGRESS: at 27.58% examples, 342060 words/s, in_qsize 7, out_qsize 0\n",
            "2018-04-02 21:37:19,030 : INFO : EPOCH 5 - PROGRESS: at 30.32% examples, 342021 words/s, in_qsize 7, out_qsize 0\n",
            "2018-04-02 21:37:20,040 : INFO : EPOCH 5 - PROGRESS: at 33.15% examples, 342364 words/s, in_qsize 7, out_qsize 0\n",
            "2018-04-02 21:37:21,054 : INFO : EPOCH 5 - PROGRESS: at 35.83% examples, 342071 words/s, in_qsize 7, out_qsize 0\n",
            "2018-04-02 21:37:22,054 : INFO : EPOCH 5 - PROGRESS: at 38.51% examples, 342159 words/s, in_qsize 7, out_qsize 0\n",
            "2018-04-02 21:37:23,059 : INFO : EPOCH 5 - PROGRESS: at 41.25% examples, 342592 words/s, in_qsize 7, out_qsize 0\n",
            "2018-04-02 21:37:24,081 : INFO : EPOCH 5 - PROGRESS: at 43.98% examples, 342641 words/s, in_qsize 7, out_qsize 0\n",
            "2018-04-02 21:37:25,136 : INFO : EPOCH 5 - PROGRESS: at 46.72% examples, 341985 words/s, in_qsize 7, out_qsize 0\n",
            "2018-04-02 21:37:26,156 : INFO : EPOCH 5 - PROGRESS: at 49.38% examples, 341704 words/s, in_qsize 7, out_qsize 0\n",
            "2018-04-02 21:37:27,158 : INFO : EPOCH 5 - PROGRESS: at 52.16% examples, 342098 words/s, in_qsize 7, out_qsize 0\n",
            "2018-04-02 21:37:28,220 : INFO : EPOCH 5 - PROGRESS: at 54.87% examples, 341469 words/s, in_qsize 6, out_qsize 1\n",
            "2018-04-02 21:37:29,252 : INFO : EPOCH 5 - PROGRESS: at 57.68% examples, 342029 words/s, in_qsize 7, out_qsize 0\n",
            "2018-04-02 21:37:30,290 : INFO : EPOCH 5 - PROGRESS: at 60.31% examples, 341171 words/s, in_qsize 7, out_qsize 0\n",
            "2018-04-02 21:37:31,310 : INFO : EPOCH 5 - PROGRESS: at 63.10% examples, 341596 words/s, in_qsize 7, out_qsize 0\n",
            "2018-04-02 21:37:32,324 : INFO : EPOCH 5 - PROGRESS: at 65.73% examples, 341185 words/s, in_qsize 7, out_qsize 0\n",
            "2018-04-02 21:37:33,329 : INFO : EPOCH 5 - PROGRESS: at 68.55% examples, 341768 words/s, in_qsize 7, out_qsize 0\n",
            "2018-04-02 21:37:34,369 : INFO : EPOCH 5 - PROGRESS: at 71.16% examples, 341036 words/s, in_qsize 6, out_qsize 1\n",
            "2018-04-02 21:37:35,396 : INFO : EPOCH 5 - PROGRESS: at 73.90% examples, 341049 words/s, in_qsize 6, out_qsize 1\n",
            "2018-04-02 21:37:36,406 : INFO : EPOCH 5 - PROGRESS: at 76.66% examples, 341247 words/s, in_qsize 7, out_qsize 0\n",
            "2018-04-02 21:37:37,410 : INFO : EPOCH 5 - PROGRESS: at 79.29% examples, 341053 words/s, in_qsize 7, out_qsize 0\n",
            "2018-04-02 21:37:38,411 : INFO : EPOCH 5 - PROGRESS: at 81.98% examples, 341101 words/s, in_qsize 6, out_qsize 1\n",
            "2018-04-02 21:37:39,415 : INFO : EPOCH 5 - PROGRESS: at 84.67% examples, 341125 words/s, in_qsize 7, out_qsize 0\n",
            "2018-04-02 21:37:40,461 : INFO : EPOCH 5 - PROGRESS: at 87.42% examples, 340936 words/s, in_qsize 7, out_qsize 0\n",
            "2018-04-02 21:37:41,477 : INFO : EPOCH 5 - PROGRESS: at 90.07% examples, 340824 words/s, in_qsize 5, out_qsize 2\n",
            "2018-04-02 21:37:42,515 : INFO : EPOCH 5 - PROGRESS: at 92.90% examples, 340940 words/s, in_qsize 7, out_qsize 0\n",
            "2018-04-02 21:37:43,548 : INFO : EPOCH 5 - PROGRESS: at 95.65% examples, 340675 words/s, in_qsize 7, out_qsize 0\n",
            "2018-04-02 21:37:44,566 : INFO : EPOCH 5 - PROGRESS: at 98.34% examples, 340780 words/s, in_qsize 7, out_qsize 0\n",
            "2018-04-02 21:37:45,121 : INFO : worker thread finished; awaiting finish of 3 more threads\n"
          ],
          "name": "stderr"
        },
        {
          "output_type": "stream",
          "text": [
            "2018-04-02 21:37:45,148 : INFO : worker thread finished; awaiting finish of 2 more threads\n",
            "2018-04-02 21:37:45,173 : INFO : worker thread finished; awaiting finish of 1 more threads\n",
            "2018-04-02 21:37:45,178 : INFO : worker thread finished; awaiting finish of 0 more threads\n",
            "2018-04-02 21:37:45,180 : INFO : EPOCH - 5 : training on 17798270 raw words (12748630 effective words) took 37.4s, 340909 effective words/s\n",
            "2018-04-02 21:37:45,184 : INFO : training on a 88991350 raw words (63746783 effective words) took 187.3s, 340278 effective words/s\n",
            "2018-04-02 21:37:45,190 : INFO : precomputing L2-norms of word weight vectors\n",
            "2018-04-02 21:37:45,366 : INFO : saving Word2Vec object under 300features_40minwords_10context, separately None\n",
            "2018-04-02 21:37:45,368 : INFO : not storing attribute vectors_norm\n",
            "2018-04-02 21:37:45,369 : INFO : not storing attribute cum_table\n",
            "2018-04-02 21:37:45,806 : INFO : saved 300features_40minwords_10context\n"
          ],
          "name": "stderr"
        }
      ]
    },
    {
      "metadata": {
        "id": "i-9tg9b16lRA",
        "colab_type": "code",
        "colab": {
          "autoexec": {
            "startup": false,
            "wait_interval": 0
          },
          "output_extras": [
            {
              "item_id": 1
            }
          ],
          "base_uri": "https://localhost:8080/",
          "height": 35
        },
        "outputId": "2480b938-fd9f-4cbc-c617-9e8bc9d7e95f",
        "executionInfo": {
          "status": "ok",
          "timestamp": 1522706508756,
          "user_tz": -330,
          "elapsed": 1273,
          "user": {
            "displayName": "ayush gupta",
            "photoUrl": "//lh5.googleusercontent.com/-SmYRJDgC_jI/AAAAAAAAAAI/AAAAAAAACvk/Iqu4XSMC0tM/s50-c-k-no/photo.jpg",
            "userId": "107111856202799795670"
          }
        }
      },
      "cell_type": "code",
      "source": [
        "model.doesnt_match(\"man woman child kitchen\".split())"
      ],
      "execution_count": 27,
      "outputs": [
        {
          "output_type": "execute_result",
          "data": {
            "text/plain": [
              "'kitchen'"
            ]
          },
          "metadata": {
            "tags": []
          },
          "execution_count": 27
        }
      ]
    },
    {
      "metadata": {
        "id": "M6Bjlv886lTZ",
        "colab_type": "code",
        "colab": {
          "autoexec": {
            "startup": false,
            "wait_interval": 0
          },
          "output_extras": [
            {
              "item_id": 1
            }
          ],
          "base_uri": "https://localhost:8080/",
          "height": 35
        },
        "outputId": "f336a2c0-a628-480b-c32f-f56130b40edf",
        "executionInfo": {
          "status": "ok",
          "timestamp": 1522706562095,
          "user_tz": -330,
          "elapsed": 1145,
          "user": {
            "displayName": "ayush gupta",
            "photoUrl": "//lh5.googleusercontent.com/-SmYRJDgC_jI/AAAAAAAAAAI/AAAAAAAACvk/Iqu4XSMC0tM/s50-c-k-no/photo.jpg",
            "userId": "107111856202799795670"
          }
        }
      },
      "cell_type": "code",
      "source": [
        "model.doesnt_match(\"man king queen boy\".split())"
      ],
      "execution_count": 31,
      "outputs": [
        {
          "output_type": "execute_result",
          "data": {
            "text/plain": [
              "'queen'"
            ]
          },
          "metadata": {
            "tags": []
          },
          "execution_count": 31
        }
      ]
    },
    {
      "metadata": {
        "id": "gjxBz3GR6lXY",
        "colab_type": "code",
        "colab": {
          "autoexec": {
            "startup": false,
            "wait_interval": 0
          }
        }
      },
      "cell_type": "code",
      "source": [
        ""
      ],
      "execution_count": 0,
      "outputs": []
    },
    {
      "metadata": {
        "id": "OWx655106laG",
        "colab_type": "code",
        "colab": {
          "autoexec": {
            "startup": false,
            "wait_interval": 0
          }
        }
      },
      "cell_type": "code",
      "source": [
        ""
      ],
      "execution_count": 0,
      "outputs": []
    },
    {
      "metadata": {
        "id": "LQlxTI_n6lcy",
        "colab_type": "code",
        "colab": {
          "autoexec": {
            "startup": false,
            "wait_interval": 0
          }
        }
      },
      "cell_type": "code",
      "source": [
        ""
      ],
      "execution_count": 0,
      "outputs": []
    }
  ]
}